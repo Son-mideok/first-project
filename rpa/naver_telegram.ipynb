{
 "cells": [
  {
   "cell_type": "markdown",
   "metadata": {},
   "source": [
    "## 1. 네이버 사전 검색 크롤링: 스페인 국가 주요정보"
   ]
  },
  {
   "cell_type": "code",
   "execution_count": 6,
   "metadata": {},
   "outputs": [],
   "source": [
    "import requests\n",
    "from bs4 import BeautifulSoup\n",
    "\n",
    "URL = 'https://terms.naver.com/entry.naver?docId=1125333&cid=40942&categoryId=34081'\n",
    "response = requests.get(URL)\n",
    "soup =BeautifulSoup(response.text, 'html.parser')\n",
    "\n"
   ]
  },
  {
   "cell_type": "code",
   "execution_count": 11,
   "metadata": {},
   "outputs": [],
   "source": [
    "spain_tbody = soup.select_one('tbody')\n",
    "trs = spain_tbody.select('tr')\n",
    "\n",
    "# 빈리스트 존재유무따라 오류?\n",
    "# spain_result = {}\n",
    "\n",
    "for tr in trs:\n",
    "\n",
    "    spain_title = tr.select('th > span')[0].text.strip()\n",
    "    spain_data = tr.select('td')[0].text.strip()\n",
    "    \n",
    "    spain_result.setdefault(spain_title, spain_data)\n",
    "spain_result\n",
    "\n",
    "final_result='원어명: '+ spain_result['원어명'] + '위치: '+ spain_result['위치']+ '시간대: '+spain_result['시간대'] +'면적(㎢): '+ spain_result['면적(㎢)']+'시간대: '+spain_result['시간대']+'수도: '+spain_result['수도']+'종족구성: '+spain_result['종족구성']+'국제전화: '+spain_result['국제전화']\n"
   ]
  },
  {
   "cell_type": "markdown",
   "metadata": {},
   "source": [
    "## 텔레그램으로 내용 전송 "
   ]
  },
  {
   "cell_type": "code",
   "execution_count": 12,
   "metadata": {},
   "outputs": [
    {
     "data": {
      "text/plain": [
       "<telegram.message.Message at 0x192f1102390>"
      ]
     },
     "execution_count": 12,
     "metadata": {},
     "output_type": "execute_result"
    }
   ],
   "source": [
    "import telegram\n",
    "telegram_config = {}\n",
    "# config 파일 읽기\n",
    "with open('./telegram_config', 'r') as f: # config 한줄씩 읽어온다\n",
    "\n",
    "  #C:\\Users\\virtue\\Desktop\\telegram_config\n",
    "    # 모든 줄 읽어오기\n",
    "    configs = f.readlines()\n",
    "    # 한 줄  씩 확인하기\n",
    "    for config in configs:\n",
    "        # 줄바꿈기호 제거(\\n) 후 =로 문자열 분리\n",
    "        # key, value로 언패킹 (2개 나올것이 확실하기 때문에)\n",
    "        key, value = config.rstrip().split('=')\n",
    "        # config 딕셔너리에 키-값 추가\n",
    "        telegram_config[key] = value\n",
    "\n",
    "\n",
    "token = telegram_config['token']\n",
    "\n",
    "bot = telegram.Bot(token) #토큰값 넣으면 봇 객체 만들어짐\n",
    "updates = bot.get_updates() # 봇에 최신내용을 업데이트\n",
    "chat_id = updates[-1].message.chat.id\n",
    "\n",
    "bot.send_message(chat_id, '스페인 주요정보입니다.')\n",
    "bot.send_message(chat_id, final_result)"
   ]
  }
 ],
 "metadata": {
  "kernelspec": {
   "display_name": "Python 3.10.4 ('study')",
   "language": "python",
   "name": "python3"
  },
  "language_info": {
   "codemirror_mode": {
    "name": "ipython",
    "version": 3
   },
   "file_extension": ".py",
   "mimetype": "text/x-python",
   "name": "python",
   "nbconvert_exporter": "python",
   "pygments_lexer": "ipython3",
   "version": "3.10.4"
  },
  "orig_nbformat": 4,
  "vscode": {
   "interpreter": {
    "hash": "cdb3408ddd590d3368dab592099dfbb7bb79f8272c754c134a9f1c06d64a117d"
   }
  }
 },
 "nbformat": 4,
 "nbformat_minor": 2
}
