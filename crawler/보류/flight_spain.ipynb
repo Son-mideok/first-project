{
 "cells": [
  {
   "cell_type": "code",
   "execution_count": 1,
   "metadata": {},
   "outputs": [
    {
     "name": "stderr",
     "output_type": "stream",
     "text": [
      "C:\\Users\\virtue\\AppData\\Local\\Temp\\ipykernel_1984\\2906207592.py:9: DeprecationWarning: executable_path has been deprecated, please pass in a Service object\n",
      "  browser = webdriver.Chrome(chrome_path)\n"
     ]
    }
   ],
   "source": [
    "from selenium import webdriver\n",
    "from selenium.webdriver.common.by import By\n",
    "from selenium.webdriver.support.ui import WebDriverWait\n",
    "from selenium.webdriver.support import expected_conditions as EC\n",
    "\n",
    "options = webdriver.ChromeOptions()\n",
    "options.add_experimental_option(\"excludeSwitches\", [\"enable-logging\"])\n",
    "chrome_path =r'C:\\Users\\virtue\\Desktop\\python_youtube\\chromedriver.exe'\n",
    "browser = webdriver.Chrome(chrome_path)\n",
    "# browser = webdriver.Chrome(options=options)\n",
    "\n",
    "def wait_until(xpath_str):\n",
    "    WebDriverWait(browser, 30).until(EC.presence_of_element_located((By.XPATH, xpath_str)))\n",
    "\n",
    "url = 'https://flight.naver.com/'\n",
    "browser.get(url)\n",
    "\n",
    "def flight(departure, arrival_date):\n",
    "    begin_date = browser.find_element(By.XPATH, '//button[text() =  \"가는 날\"]')\n",
    "    begin_date.click()\n",
    "\n",
    "    #가는 날짜\n",
    "    wait_until('//b[text() = '+str(departure)+']') # 나올때까지 30초 대기\n",
    "    browser.find_elements(By.XPATH, '//b[text() = '+str(departure)+']')[0].click()\n",
    "    \n",
    "\n",
    "    # 도착 날짜\n",
    "    wait_until('//b[text() = '+str(arrival_date)+']')\n",
    "    browser.find_elements(By.XPATH, '//b[text() = '+str(arrival_date)+']')[0].click()\n",
    "\n",
    "\n",
    "    wait_until('//b[text() = \"도착\"]')\n",
    "    arrival = browser.find_element(By.XPATH, '//b[text() = \"도착\"]')\n",
    "    arrival.click()\n",
    "\n",
    "    wait_until('//button[text() = \"유럽\"]')\n",
    "    uro  = browser.find_element(By.XPATH, '//button[text() = \"유럽\"]')\n",
    "    uro.click()\n",
    "\n",
    "    wait_until('//i[contains(text(), \"바르셀로나\")]')\n",
    "    spain_BCN = browser.find_element(By.XPATH, '//i[contains(text(), \"바르셀로나\")]')\n",
    "    spain_BCN\n",
    "    spain_BCN.click()\n",
    "\n",
    "    wait_until('//span[contains(text(), \"항공권 검색\")]')\n",
    "    search = browser.find_element(By.XPATH, '//span[contains(text(), \"항공권 검색\")]')\n",
    "    search.click()\n",
    "\n",
    "\n",
    "\n",
    "    elem = WebDriverWait(browser, 30).until(EC.presence_of_element_located((By.XPATH,\n",
    "    '//div[@class=\"concurrent_ConcurrentItemContainer__2lQVG result\"]')))  # 어짜피 로딩끝나고 대기니깐 def 안씀\n",
    "\n",
    "    return print(elem.text)"
   ]
  },
  {
   "cell_type": "code",
   "execution_count": null,
   "metadata": {},
   "outputs": [],
   "source": []
  }
 ],
 "metadata": {
  "kernelspec": {
   "display_name": "Python 3.10.4 ('study')",
   "language": "python",
   "name": "python3"
  },
  "language_info": {
   "codemirror_mode": {
    "name": "ipython",
    "version": 3
   },
   "file_extension": ".py",
   "mimetype": "text/x-python",
   "name": "python",
   "nbconvert_exporter": "python",
   "pygments_lexer": "ipython3",
   "version": "3.10.4"
  },
  "orig_nbformat": 4,
  "vscode": {
   "interpreter": {
    "hash": "cdb3408ddd590d3368dab592099dfbb7bb79f8272c754c134a9f1c06d64a117d"
   }
  }
 },
 "nbformat": 4,
 "nbformat_minor": 2
}
