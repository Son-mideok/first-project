{
 "cells": [
  {
   "cell_type": "code",
   "execution_count": 2,
   "id": "2027a9b6",
   "metadata": {},
   "outputs": [],
   "source": [
    "# 1. 원하는 영역 담기(테이블) / [td : tr] 나란히 \n",
    "\n",
    "import requests, bs4\n",
    "import pandas as pd\n",
    "\n",
    "url = \"https://ko.wikipedia.org/wiki/%EC%8A%A4%ED%8E%98%EC%9D%B8\"\n",
    "response = requests.get(url).text.encode('utf-8')\n",
    "response = bs4.BeautifulSoup(response,'html.parser')\n",
    "\n",
    "# 원하는 영역 담기\n",
    "target = response.find('table',{'class':'infobox geography vcard'})"
   ]
  },
  {
   "cell_type": "code",
   "execution_count": 3,
   "id": "3788d8bf",
   "metadata": {
    "scrolled": false
   },
   "outputs": [
    {
     "name": "stdout",
     "output_type": "stream",
     "text": [
      "<table class=\"infobox geography vcard\" style=\"width:22em;width:22em; font-size:85%; line-height: 1.4em;\"><tbody><tr><th colspan=\"2\" style=\"text-align:center;font-size:125%;font-weight:bold;background-color: ; text-align: center; line-height:1.3em; font-size:1.25em; white-space:nowrap;\">스페인 왕국</th></tr><tr><td colspan=\"2\" style=\"text-align:center;background-color:#e3e3e3; font-weight:bold; font-size:1.2em;\"><span lang=\"es\">Reino de España</span></td></tr><tr class=\"mergedtoprow\"><td colspan=\"2\" style=\"text-align:center\">\n",
      "<table style=\"width: 100%; background: none; text-align: center;\">\n",
      "<tbody><tr>\n",
      "<td style=\"border: 0; vertical-align: middle; text-align:center;\"><a class=\"image\" href=\"/wiki/%ED%8C%8C%EC%9D%BC:Bandera_de_Espa%C3%B1a.svg\"><img alt=\"Bandera de España.svg\" class=\"thumbborder\" data-file-height=\"500\" data-file-width=\"750\" decoding=\"async\" height=\"100\" src=\"//upload.wikimedia.org/wikipedia/commons/thumb/8/89/Bandera_de_Espa%C3%B1a.svg/150px-Bandera_de_Espa%C3%B1a.svg.png\" srcset=\"//upload.wikimedia.org/wikipedia/commons/thumb/8/89/Bandera_de_Espa%C3%B1a.svg/225px-Bandera_de_Espa%C3%B1a.svg.png 1.5x, //upload.wikimedia.org/wikipedia/commons/thumb/8/89/Bandera_de_Espa%C3%B1a.svg/300px-Bandera_de_Espa%C3%B1a.svg.png 2x\" width=\"150\"/></a>\n",
      "</td>\n",
      "<td style=\"border: 0; vertical-align: middle; text-align:center;\"><a class=\"image\" href=\"/wiki/%ED%8C%8C%EC%9D%BC:Escudo_de_Espa%C3%B1a_(mazonado).svg\"><img alt=\"Escudo de España (mazonado).svg\" data-file-height=\"911\" data-file-width=\"910\" decoding=\"async\" height=\"100\" src=\"//upload.wikimedia.org/wikipedia/commons/thumb/8/85/Escudo_de_Espa%C3%B1a_%28mazonado%29.svg/100px-Escudo_de_Espa%C3%B1a_%28mazonado%29.svg.png\" srcset=\"//upload.wikimedia.org/wikipedia/commons/thumb/8/85/Escudo_de_Espa%C3%B1a_%28mazonado%29.svg/150px-Escudo_de_Espa%C3%B1a_%28mazonado%29.svg.png 1.5x, //upload.wikimedia.org/wikipedia/commons/thumb/8/85/Escudo_de_Espa%C3%B1a_%28mazonado%29.svg/200px-Escudo_de_Espa%C3%B1a_%28mazonado%29.svg.png 2x\" width=\"100\"/></a>\n",
      "</td></tr>\n",
      "<tr>\n",
      "<td style=\"border:0; text-align:center;\"><a href=\"/wiki/%EC%8A%A4%ED%8E%98%EC%9D%B8%EC%9D%98_%EA%B5%AD%EA%B8%B0\" title=\"스페인의 국기\">국기</a>\n",
      "</td>\n",
      "<td style=\"border:0; text-align:center;\"><a href=\"/wiki/%EC%8A%A4%ED%8E%98%EC%9D%B8%EC%9D%98_%EA%B5%AD%EC%9E%A5\" title=\"스페인의 국장\">국장</a>\n",
      "</td></tr></tbody></table></td></tr><tr><th scope=\"row\">표어</th><td><a href=\"/wiki/%ED%94%8C%EB%A3%A8%EC%8A%A4_%EC%9A%B8%ED%8A%B8%EB%9D%BC\" title=\"플루스 울트라\">Plus ultra</a> (<span style=\"font-size: smaller;\"><a href=\"/wiki/%EB%9D%BC%ED%8B%B4%EC%96%B4\" title=\"라틴어\">라틴어</a>: </span><span lang=\"la\">보다 더 멀리</span>)</td></tr><tr><th scope=\"row\"><a href=\"/wiki/%EA%B5%AD%EA%B0%80_%EB%AA%A9%EB%A1%9D\" title=\"국가 목록\">국가</a></th><td><a href=\"/wiki/%EC%8A%A4%ED%8E%98%EC%9D%B8%EC%9D%98_%EA%B5%AD%EA%B0%80\" title=\"스페인의 국가\">왕의 행진</a> <audio controls=\"\" data-durationhint=\"62\" data-mwprovider=\"wikimediacommons\" data-mwtitle=\"Marcha_Real-Royal_March_by_US_Navy_Band.ogg\" id=\"mwe_player_0\" preload=\"none\" style=\"width:220px;\" width=\"220\"><source data-bandwidth=\"194720\" data-height=\"0\" data-shorttitle=\"MP3\" data-title=\"MP3\" data-transcodekey=\"mp3\" data-width=\"0\" src=\"//upload.wikimedia.org/wikipedia/commons/transcoded/c/c8/Marcha_Real-Royal_March_by_US_Navy_Band.ogg/Marcha_Real-Royal_March_by_US_Navy_Band.ogg.mp3\" type=\"audio/mpeg\"/><source data-bandwidth=\"334039\" data-height=\"0\" data-shorttitle=\"Ogg 원본\" data-title=\"원본 Ogg 파일 (334 kbps)\" data-width=\"0\" src=\"//upload.wikimedia.org/wikipedia/commons/c/c8/Marcha_Real-Royal_March_by_US_Navy_Band.ogg\" type='audio/ogg; codecs=\"vorbis\"'/><track data-dir=\"ltr\" kind=\"subtitles\" label=\"English ‪(en)‬\" src=\"https://commons.wikimedia.org/w/api.php?action=timedtext&amp;title=File%3AMarcha_Real-Royal_March_by_US_Navy_Band.ogg&amp;lang=en&amp;trackformat=vtt&amp;origin=%2A\" srclang=\"en\" type=\"text/vtt\"/><track data-dir=\"ltr\" kind=\"subtitles\" label=\"español ‪(es)‬\" src=\"https://commons.wikimedia.org/w/api.php?action=timedtext&amp;title=File%3AMarcha_Real-Royal_March_by_US_Navy_Band.ogg&amp;lang=es&amp;trackformat=vtt&amp;origin=%2A\" srclang=\"es\" type=\"text/vtt\"/><track data-dir=\"ltr\" kind=\"subtitles\" label=\"português ‪(pt)‬\" src=\"https://commons.wikimedia.org/w/api.php?action=timedtext&amp;title=File%3AMarcha_Real-Royal_March_by_US_Navy_Band.ogg&amp;lang=pt&amp;trackformat=vtt&amp;origin=%2A\" srclang=\"pt\" type=\"text/vtt\"/></audio></td></tr><tr><td colspan=\"2\" style=\"text-align:center\"><div class=\"switcher-container\"><div><a class=\"image\" href=\"/wiki/%ED%8C%8C%EC%9D%BC:EU-Spain_(orthographic_projection).svg\"><img alt=\"EU-Spain (orthographic projection).svg\" data-file-height=\"2000\" data-file-width=\"2000\" decoding=\"async\" height=\"250\" src=\"//upload.wikimedia.org/wikipedia/commons/thumb/c/ca/EU-Spain_%28orthographic_projection%29.svg/250px-EU-Spain_%28orthographic_projection%29.svg.png\" srcset=\"//upload.wikimedia.org/wikipedia/commons/thumb/c/ca/EU-Spain_%28orthographic_projection%29.svg/375px-EU-Spain_%28orthographic_projection%29.svg.png 1.5x, //upload.wikimedia.org/wikipedia/commons/thumb/c/ca/EU-Spain_%28orthographic_projection%29.svg/500px-EU-Spain_%28orthographic_projection%29.svg.png 2x\" width=\"250\"/></a><span class=\"switcher-label\" style=\"display:none\">지구 상의 스페인</span></div><div><a class=\"image\" href=\"/wiki/%ED%8C%8C%EC%9D%BC:EU-Spain.svg\"><img alt=\"EU-Spain.svg\" data-file-height=\"1720\" data-file-width=\"2045\" decoding=\"async\" height=\"210\" src=\"//upload.wikimedia.org/wikipedia/commons/thumb/2/21/EU-Spain.svg/250px-EU-Spain.svg.png\" srcset=\"//upload.wikimedia.org/wikipedia/commons/thumb/2/21/EU-Spain.svg/375px-EU-Spain.svg.png 1.5x, //upload.wikimedia.org/wikipedia/commons/thumb/2/21/EU-Spain.svg/500px-EU-Spain.svg.png 2x\" width=\"250\"/></a><span class=\"switcher-label\" data-switcher-default=\"\" style=\"display:none\">유럽에서의 스페인</span></div></div><div style=\"text-align: center;\">스페인의 위치(초록색)<br/><a href=\"/wiki/%EC%9C%A0%EB%9F%BD\" title=\"유럽\">유럽</a>(짙은 회색), <a href=\"/wiki/%EC%9C%A0%EB%9F%BD_%EC%97%B0%ED%95%A9\" title=\"유럽 연합\">유럽 연합</a>(연두색)</div></td></tr><tr><th scope=\"row\"><a href=\"/wiki/%EC%88%98%EB%8F%84\" title=\"수도\">수도</a></th><td><a href=\"/wiki/%EB%A7%88%EB%93%9C%EB%A6%AC%EB%93%9C\" title=\"마드리드\">마드리드</a> <span style=\"white-space:nowrap;font-size:85%;\"><style data-mw-deduplicate=\"TemplateStyles:r27121890\">.mw-parser-output .geo-default,.mw-parser-output .geo-dms,.mw-parser-output .geo-dec{display:inline}.mw-parser-output .geo-nondefault,.mw-parser-output .geo-multi-punct{display:none}.mw-parser-output .longitude,.mw-parser-output .latitude{white-space:nowrap}</style><span class=\"plainlinks nourlexpansion\"><a class=\"external text\" href=\"//geohack.toolforge.org/geohack.php?language=ko&amp;pagename=%EC%8A%A4%ED%8E%98%EC%9D%B8&amp;params=40.383333_N_-3.716667_E_\"><span class=\"geo-default\"><span class=\"geo-dms\" title=\"이 위치에 대한 지도와 항공사진 및 기타 정보를 보여줍니다\"><span class=\"latitude\">북위 40° 23′ 00″</span> <span class=\"longitude\">서경 3° 43′ 00″</span></span></span><span class=\"geo-multi-punct\">﻿ / ﻿</span><span class=\"geo-nondefault\"><span class=\"geo-dec\" title=\"이 위치에 대한 지도와 항공사진 및 기타 정보를 보여줍니다\">북위 40.383333°  서경 3.716667° </span><span style=\"display:none\">﻿ / <span class=\"geo\">40.383333; -3.716667</span></span></span></a></span></span></td></tr><tr><td colspan=\"2\" style=\"text-align:center\"><div style=\"margin:7px; width: 202px; float:none; clear:both; margin-left: auto; margin-right: auto; ;\"><div style=\"position: relative;border: 1px solid #CCCCCC; padding: 0px; width: 200px\"><a class=\"image\" href=\"/wiki/%ED%8C%8C%EC%9D%BC:Spain_location_map.svg\" title=\"마드리드는 스페인의 수도이자 최대 도시이다\"><img alt=\"마드리드는 스페인의 수도이자 최대 도시이다\" data-file-height=\"1016\" data-file-width=\"1184\" decoding=\"async\" height=\"172\" src=\"//upload.wikimedia.org/wikipedia/commons/thumb/8/88/Spain_location_map.svg/200px-Spain_location_map.svg.png\" srcset=\"//upload.wikimedia.org/wikipedia/commons/thumb/8/88/Spain_location_map.svg/300px-Spain_location_map.svg.png 1.5x, //upload.wikimedia.org/wikipedia/commons/thumb/8/88/Spain_location_map.svg/400px-Spain_location_map.svg.png 2x\" width=\"200\"/></a><br/><div style=\"position: absolute; z-index: 2; top: 41.4%; left: 42.1%; height: 0; width: 0; margin: 0; padding: 0;\"><div style=\"position: relative; text-align: center; left: -2px; top: -2px; width: 4px; font-size: 4px; line-height:0;\"><img alt=\"\" data-file-height=\"64\" data-file-width=\"64\" decoding=\"async\" height=\"4\" src=\"//upload.wikimedia.org/wikipedia/commons/thumb/0/0c/Red_pog.svg/4px-Red_pog.svg.png\" srcset=\"//upload.wikimedia.org/wikipedia/commons/thumb/0/0c/Red_pog.svg/6px-Red_pog.svg.png 1.5x, //upload.wikimedia.org/wikipedia/commons/thumb/0/0c/Red_pog.svg/8px-Red_pog.svg.png 2x\" title=\"마드리드\" width=\"4\"/></div><div style=\"font-size: 80%; line-height: 120%; z-index:90; position: relative; top: -1.5em; width: 6em; left: 0.5em; text-align: left;\"><span style=\"padding: 1px; white-space: nowrap;\"><a href=\"/wiki/%EB%A7%88%EB%93%9C%EB%A6%AC%EB%93%9C\" title=\"마드리드\"><span style=\"font-size: 9pt; white-space: nowrap\" title=\"마드리드는 스페인의 수도이자 최대 도시이다\">마드리드</span></a></span></div></div></div></div>\n",
      "</td></tr><tr><th colspan=\"2\" style=\"text-align:center;background-color: #e9e5e5; text-align: center; line-height: 1.4em;\"><a href=\"/wiki/%EC%A0%95%EC%B9%98\" title=\"정치\">정치</a></th></tr><tr><th scope=\"row\"><a class=\"mw-redirect\" href=\"/wiki/%EC%A0%95%EC%B9%98%EC%B2%B4%EC%A0%9C\" title=\"정치체제\">정치체제</a></th><td><a href=\"/wiki/%EC%9E%85%ED%97%8C%EA%B5%B0%EC%A3%BC%EC%A0%9C\" title=\"입헌군주제\">입헌군주제</a>, <a href=\"/wiki/%EC%9D%98%EC%9B%90%EB%82%B4%EA%B0%81%EC%A0%9C\" title=\"의원내각제\">의원내각제</a></td></tr><tr><th scope=\"row\"><a class=\"mw-redirect\" href=\"/wiki/%EC%8A%A4%ED%8E%98%EC%9D%B8%EC%9D%98_%EA%B5%B0%EC%A3%BC\" title=\"스페인의 군주\">국왕</a><br/><a href=\"/wiki/%EC%8A%A4%ED%8E%98%EC%9D%B8%EC%9D%98_%EC%B4%9D%EB%A6%AC\" title=\"스페인의 총리\">총리</a></th><td><a href=\"/wiki/%ED%8E%A0%EB%A6%AC%ED%8E%98_6%EC%84%B8\" title=\"펠리페 6세\">펠리페 6세</a><br/><a href=\"/wiki/%ED%8E%98%EB%93%9C%EB%A1%9C_%EC%82%B0%EC%B2%B4%EC%8A%A4\" title=\"페드로 산체스\">페드로 산체스</a></td></tr><tr><th scope=\"row\"><a href=\"/wiki/%EC%97%AC%EB%8B%B9\" title=\"여당\">집권여당</a></th><td><a href=\"/wiki/%EC%8A%A4%ED%8E%98%EC%9D%B8_%EC%82%AC%ED%9A%8C%EB%85%B8%EB%8F%99%EB%8B%B9\" title=\"스페인 사회노동당\">스페인 사회노동당</a></td></tr><tr><th colspan=\"2\" style=\"text-align:center;background-color: #e9e5e5; text-align: center; line-height: 1.4em;\"><a href=\"/wiki/%EC%8A%A4%ED%8E%98%EC%9D%B8%EC%9D%98_%EC%97%AD%EC%82%AC\" title=\"스페인의 역사\">역사</a></th></tr><tr><th scope=\"row\">건국</th><td> </td></tr><tr class=\"mergedrow\"><th scope=\"row\"> • <a href=\"/wiki/%EB%A0%88%EC%BD%A9%ED%82%A4%EC%8A%A4%ED%83%80\" title=\"레콩키스타\">레콩키스타</a></th><td><a href=\"/wiki/1469%EB%85%84\" title=\"1469년\">1469년</a></td></tr><tr class=\"mergedrow\"><th scope=\"row\"> • <a href=\"/wiki/%EC%8A%A4%ED%8E%98%EC%9D%B8%EC%9D%98_%EB%AF%BC%EC%A3%BC%ED%99%94\" title=\"스페인의 민주화\">왕정복고</a></th><td><a href=\"/wiki/1975%EB%85%84\" title=\"1975년\">1975년</a></td></tr><tr class=\"mergedrow\"><th colspan=\"2\" style=\"text-align:center;background-color: #e9e5e5; text-align: center; line-height: 1.4em;\"><a class=\"mw-redirect\" href=\"/wiki/%EC%A7%80%EB%A6%AC\" title=\"지리\">지리</a></th></tr><tr><th scope=\"row\"><a href=\"/wiki/%EB%84%93%EC%9D%B4\" title=\"넓이\">면적</a></th><td>505,990 <a href=\"/wiki/%EC%A0%9C%EA%B3%B1%ED%82%AC%EB%A1%9C%EB%AF%B8%ED%84%B0\" title=\"제곱킬로미터\">km<sup>2</sup></a> (<a href=\"/wiki/%EB%A9%B4%EC%A0%81%EC%88%9C_%EB%82%98%EB%9D%BC_%EB%AA%A9%EB%A1%9D\" title=\"면적순 나라 목록\">51 위</a>)</td></tr><tr class=\"mergedrow\"><th scope=\"row\"><a href=\"/wiki/%ED%95%B4%EC%88%98%EB%A9%B4#내수면\" title=\"해수면\">내수면 비율</a></th><td>1.04<a href=\"/wiki/%EB%B0%B1%EB%B6%84%EC%9C%A8\" title=\"백분율\">%</a></td></tr><tr class=\"mergedrow\"><th scope=\"row\"><a href=\"/wiki/%EC%8B%9C%EA%B0%84%EB%8C%80\" title=\"시간대\">시간대</a></th><td><a class=\"mw-redirect\" href=\"/wiki/%EC%A4%91%EC%95%99%EC%9C%A0%EB%9F%BD_%EC%8B%9C%EA%B0%84%EB%8C%80\" title=\"중앙유럽 시간대\">CET</a> (<a href=\"/wiki/%ED%98%91%EC%A0%95_%EC%84%B8%EA%B3%84%EC%8B%9C\" title=\"협정 세계시\">UTC</a>+1)</td></tr><tr class=\"mergedrow\"><th scope=\"row\"><a href=\"/wiki/%EC%9D%BC%EA%B4%91_%EC%A0%88%EC%95%BD_%EC%8B%9C%EA%B0%84%EC%A0%9C\" title=\"일광 절약 시간제\">DST</a></th><td><a class=\"mw-redirect\" href=\"/wiki/%EC%A4%91%EC%95%99%EC%9C%A0%EB%9F%BD_%EC%97%AC%EB%A6%84_%EC%8B%9C%EA%B0%84%EB%8C%80\" title=\"중앙유럽 여름 시간대\">CEST</a> (<a class=\"mw-redirect\" href=\"/wiki/UTC\" title=\"UTC\">UTC</a>+2)</td></tr><tr><th colspan=\"2\" style=\"text-align:center;background-color: #e9e5e5; text-align: center; line-height: 1.4em;\"><a href=\"/wiki/%EC%9D%B8%EB%AC%B8%ED%95%99\" title=\"인문학\">인문</a></th></tr><tr><th scope=\"row\"><a href=\"/wiki/%EA%B3%B5%EC%9A%A9%EC%96%B4_%EB%AA%A9%EB%A1%9D\" title=\"공용어 목록\">공용어</a></th><td><a href=\"/wiki/%EC%8A%A4%ED%8E%98%EC%9D%B8%EC%96%B4\" title=\"스페인어\">스페인어</a></td></tr><tr class=\"mergedrow\"><th scope=\"row\">지역어</th><td><a href=\"/wiki/%EC%B9%B4%ED%83%88%EB%A3%A8%EB%83%90%EC%96%B4\" title=\"카탈루냐어\">카탈루냐어</a>, <a href=\"/wiki/%EB%B0%94%EC%8A%A4%ED%81%AC%EC%96%B4\" title=\"바스크어\">바스크어</a>, <a href=\"/wiki/%EA%B0%88%EB%A6%AC%EC%8B%9C%EC%95%84%EC%96%B4\" title=\"갈리시아어\">갈리시아어</a>, <a href=\"/wiki/%EC%98%A4%ED%81%AC%EC%96%B4\" title=\"오크어\">오크어</a></td></tr><tr><th colspan=\"2\" style=\"text-align:center;background-color: #e9e5e5; text-align: center; line-height: 1.4em;\"><a href=\"/wiki/%EC%9D%B8%EA%B5%AC%EC%88%9C_%EB%82%98%EB%9D%BC_%EB%AA%A9%EB%A1%9D\" title=\"인구순 나라 목록\">인구</a></th></tr><tr><th scope=\"row\"><a href=\"/wiki/2015%EB%85%84\" title=\"2015년\">2015년</a> 어림</th><td>46,700,000명 (30위)</td></tr><tr class=\"mergedrow\"><th scope=\"row\"><a href=\"/wiki/%EC%9D%B8%EA%B5%AC_%EB%B0%80%EB%8F%84\" title=\"인구 밀도\">인구 밀도</a></th><td>90명/km<sup>2</sup> (<a href=\"/wiki/%EC%9D%B8%EA%B5%AC_%EB%B0%80%EB%8F%84%EC%88%9C_%EB%82%98%EB%9D%BC_%EB%AA%A9%EB%A1%9D\" title=\"인구 밀도순 나라 목록\">106위</a>)</td></tr><tr><th colspan=\"2\" style=\"text-align:center;background-color: #e9e5e5; text-align: center; line-height: 1.4em;\"><a href=\"/wiki/%EA%B2%BD%EC%A0%9C\" title=\"경제\">경제</a></th></tr><tr><th scope=\"row\"><a class=\"mw-redirect\" href=\"/wiki/%EA%B5%AD%EB%82%B4_%EC%B4%9D%EC%83%9D%EC%82%B0\" title=\"국내 총생산\">GDP</a>(<a href=\"/wiki/%EA%B5%AC%EB%A7%A4%EB%A0%A5_%ED%8F%89%EA%B0%80\" title=\"구매력 평가\">PPP</a>)</th><td>2012년 어림값</td></tr><tr class=\"mergedrow\"><th scope=\"row\"> • 전체</th><td>$1조 4110억 (<a class=\"mw-redirect\" href=\"/wiki/%EA%B5%AC%EB%A7%A4%EB%A0%A5%ED%8F%89%EA%B0%80_%EA%B8%B0%EC%A4%80_%EA%B5%AD%EB%82%B4%EC%B4%9D%EC%83%9D%EC%82%B0%EC%88%9C_%EB%82%98%EB%9D%BC_%EB%AA%A9%EB%A1%9D\" title=\"구매력평가 기준 국내총생산순 나라 목록\">14위</a>)</td></tr><tr class=\"mergedrow\"><th scope=\"row\"> • 일인당</th><td>$30,577 (<a class=\"mw-redirect\" href=\"/wiki/%EA%B5%AC%EB%A7%A4%EB%A0%A5%ED%8F%89%EA%B0%80_%EA%B8%B0%EC%A4%80_%EC%9D%BC%EC%9D%B8%EB%8B%B9_%EA%B5%AD%EB%82%B4%EC%B4%9D%EC%83%9D%EC%82%B0%EC%88%9C_%EB%82%98%EB%9D%BC_%EB%AA%A9%EB%A1%9D\" title=\"구매력평가 기준 일인당 국내총생산순 나라 목록\">32위</a>)</td></tr><tr class=\"mergedrow\"><th scope=\"row\"><a class=\"mw-redirect\" href=\"/wiki/%EA%B5%AD%EB%82%B4_%EC%B4%9D%EC%83%9D%EC%82%B0\" title=\"국내 총생산\">GDP</a>(명목)</th><td>2012년 어림값</td></tr><tr class=\"mergedrow\"><th scope=\"row\"> • 전체</th><td>$1조 2,302억 (<a href=\"/wiki/%EB%AA%85%EB%AA%A9_%EA%B5%AD%EB%82%B4_%EC%B4%9D%EC%83%9D%EC%82%B0%EC%88%9C_%EB%82%98%EB%9D%BC_%EB%AA%A9%EB%A1%9D\" title=\"명목 국내 총생산순 나라 목록\">14위</a>)</td></tr><tr class=\"mergedrow\"><th scope=\"row\"><a href=\"/wiki/%EC%9D%B8%EA%B0%84_%EA%B0%9C%EB%B0%9C_%EC%A7%80%EC%88%98\" title=\"인간 개발 지수\">HDI</a></th><td>0.885 (<a href=\"/wiki/%EC%9D%B8%EA%B0%84_%EA%B0%9C%EB%B0%9C_%EC%A7%80%EC%88%98%EC%88%9C_%EB%82%98%EB%9D%BC_%EB%AA%A9%EB%A1%9D\" title=\"인간 개발 지수순 나라 목록\">23위</a>, <a href=\"/wiki/2012%EB%85%84\" title=\"2012년\">2012년</a> 조사)</td></tr><tr class=\"mergedrow\"><th scope=\"row\"><a href=\"/wiki/%ED%86%B5%ED%99%94\" title=\"통화\">통화</a></th><td><a href=\"/wiki/%EC%9C%A0%EB%A1%9C\" title=\"유로\">유로</a><sup>2</sup> (<a href=\"/wiki/ISO_4217\" title=\"ISO 4217\">EUR</a>)</td></tr><tr><th colspan=\"2\" style=\"text-align:center;background-color: #e9e5e5; text-align: center; line-height: 1.4em;\">기타</th></tr><tr><th scope=\"row\"><a href=\"/wiki/ISO_3166-1\" title=\"ISO 3166-1\">ISO 3166-1</a></th><td><a href=\"/wiki/ISO_3166-1\" title=\"ISO 3166-1\">724</a>, <a href=\"/wiki/ISO_3166-1_alpha-2\" title=\"ISO 3166-1 alpha-2\">ES</a>, <a href=\"/wiki/ISO_3166-1_alpha-3\" title=\"ISO 3166-1 alpha-3\">ESP</a></td></tr><tr class=\"mergedrow\"><th scope=\"row\"><a href=\"/wiki/%EA%B5%AD%EA%B0%80_%EC%BD%94%EB%93%9C_%EC%B5%9C%EC%83%81%EC%9C%84_%EB%8F%84%EB%A9%94%EC%9D%B8\" title=\"국가 코드 최상위 도메인\">도메인</a></th><td><a href=\"/wiki/.es\" title=\".es\">.es</a></td></tr><tr class=\"mergedrow\"><th scope=\"row\"><a class=\"mw-redirect\" href=\"/wiki/%EA%B5%AD%EC%A0%9C%EC%A0%84%ED%99%94_%EB%82%98%EB%9D%BC_%EB%B2%88%ED%98%B8\" title=\"국제전화 나라 번호\">국제 전화</a></th><td>+34</td></tr><tr><td colspan=\"2\" style=\"text-align:center;text-align: left;\"><sup>1</sup> <a href=\"/wiki/%EC%B9%B4%ED%83%88%EB%A3%A8%EB%83%90\" title=\"카탈루냐\">카탈루냐</a>, <a href=\"/wiki/%EB%B0%9C%EB%A0%88%EC%95%84%EB%A0%88%EC%8A%A4_%EC%A0%9C%EB%8F%84\" title=\"발레아레스 제도\">발레아레스 제도</a>, <a class=\"mw-redirect\" href=\"/wiki/%EB%B0%9C%EB%A0%8C%EC%8B%9C%EC%95%84_%EC%A7%80%EB%B0%A9\" title=\"발렌시아 지방\">발렌시아 지방</a>에서는 <a href=\"/wiki/%EC%B9%B4%ED%83%88%EB%A3%A8%EB%83%90%EC%96%B4\" title=\"카탈루냐어\">카탈루냐어</a>, <a class=\"mw-redirect\" href=\"/wiki/%EA%B0%88%EB%A6%AC%EC%8B%9C%EC%95%84\" title=\"갈리시아\">갈리시아</a>에서는 <a href=\"/wiki/%EA%B0%88%EB%A6%AC%EC%8B%9C%EC%95%84%EC%96%B4\" title=\"갈리시아어\">갈리시아어</a>, <a class=\"mw-redirect\" href=\"/wiki/%EB%B0%94%EC%8A%A4%ED%81%AC_%EC%A7%80%EB%B0%A9\" title=\"바스크 지방\">바스크 지방</a> 및 일부 <a class=\"mw-redirect\" href=\"/wiki/%EB%82%98%EB%B0%94%EB%9D%BC_%EC%A7%80%EB%B0%A9\" title=\"나바라 지방\">나바라 지방</a>에서는 <a href=\"/wiki/%EB%B0%94%EC%8A%A4%ED%81%AC%EC%96%B4\" title=\"바스크어\">바스크어</a>, <a href=\"/wiki/%EC%95%84%EB%9E%80_%EA%B3%84%EA%B3%A1\" title=\"아란 계곡\">아란 계곡</a><sup class=\"reference\" id=\"cite_ref-Valle_de_Arán_1-0\"><a href=\"#cite_note-Valle_de_Arán-1\">[1]</a></sup>에서는 <a class=\"mw-redirect\" href=\"/wiki/%EC%95%84%EB%9E%80%EC%96%B4\" title=\"아란어\">아란어</a>가 공용어(co-oficial)로 인정되어 있다.<sup class=\"reference\" id=\"cite_ref-2\"><a href=\"#cite_note-2\">[2]</a></sup><sup class=\"reference\" id=\"cite_ref-3\"><a href=\"#cite_note-3\">[3]</a></sup><br/><sup>2</sup> <a href=\"/wiki/1999%EB%85%84\" title=\"1999년\">1999년</a>까지는 <a href=\"/wiki/%EC%8A%A4%ED%8E%98%EC%9D%B8_%ED%8E%98%EC%84%B8%ED%83%80\" title=\"스페인 페세타\">페세타</a>\n",
      "<div class=\"mw-references-wrap\"><ol class=\"references\">\n",
      "<li id=\"cite_note-Valle_de_Arán-1\"><span class=\"mw-cite-backlink\"><a href=\"#cite_ref-Valle_de_Arán_1-0\">↑</a></span> <span class=\"reference-text\"><b><span style=\"color: #555; font-size: smaller;\" title=\"언어: 스페인어\">(스페인어)</span></b> <a class=\"external text\" href=\"https://es.wikipedia.org/wiki/Valle_de_Arán\">Valle de Arán</a></span>\n",
      "</li>\n",
      "<li id=\"cite_note-2\"><span class=\"mw-cite-backlink\"><a href=\"#cite_ref-2\">↑</a></span> <span class=\"reference-text\"><b><span style=\"color: #555; font-size: smaller;\" title=\"언어: 스페인어\">(스페인어)</span></b> <a class=\"external text\" href=\"http://www.elmundo.es/elmundo/2010/09/22/barcelona/1285153737.html\" rel=\"nofollow\">Cataluña admite la oficialidad del aranés y se implica en su protección y difusión</a></span>\n",
      "</li>\n",
      "<li id=\"cite_note-3\"><span class=\"mw-cite-backlink\"><a href=\"#cite_ref-3\">↑</a></span> <span class=\"reference-text\"><a class=\"external text\" href=\"https://ko.wikipedia.org/wiki/스페인의_언어\">스페인의 언어</a></span>\n",
      "</li>\n",
      "</ol></div></td></tr></tbody></table>\n"
     ]
    }
   ],
   "source": [
    "print(target)"
   ]
  },
  {
   "cell_type": "code",
   "execution_count": 4,
   "id": "a4563d67",
   "metadata": {},
   "outputs": [
    {
     "data": {
      "text/plain": [
       "['수도',\n",
       " '정치',\n",
       " '정치체제',\n",
       " '국왕총리',\n",
       " '집권여당',\n",
       " '역사',\n",
       " '건국',\n",
       " '\\xa0•\\xa0레콩키스타',\n",
       " '\\xa0•\\xa0왕정복고',\n",
       " '지리',\n",
       " '면적',\n",
       " '내수면 비율',\n",
       " '시간대',\n",
       " 'DST',\n",
       " '인문',\n",
       " '공용어',\n",
       " '지역어',\n",
       " '인구',\n",
       " '2015년 어림',\n",
       " '인구 밀도',\n",
       " '경제',\n",
       " 'GDP(PPP)',\n",
       " '\\xa0•\\xa0전체',\n",
       " '\\xa0•\\xa0일인당',\n",
       " 'GDP(명목)',\n",
       " '\\xa0•\\xa0전체',\n",
       " 'HDI',\n",
       " '통화',\n",
       " '기타',\n",
       " 'ISO 3166-1',\n",
       " '도메인',\n",
       " '국제 전화']"
      ]
     },
     "execution_count": 4,
     "metadata": {},
     "output_type": "execute_result"
    }
   ],
   "source": [
    "# 2.컬럼헤더 분리, 수도(3) 부터 시작\n",
    "\n",
    "thead = target.find_all('th')\n",
    "\n",
    "theadList = []\n",
    "\n",
    "theadLen = len(thead)\n",
    "\n",
    "for i in range(3,theadLen):\n",
    "    thead = target.find_all('th')[i].text\n",
    "    theadList.append(thead)\n",
    "\n",
    "theadList"
   ]
  },
  {
   "cell_type": "code",
   "execution_count": 5,
   "id": "cc3f9801",
   "metadata": {},
   "outputs": [],
   "source": [
    "# 3.1 body 데이터 담기"
   ]
  },
  {
   "cell_type": "code",
   "execution_count": 6,
   "id": "65c018a9",
   "metadata": {
    "scrolled": true
   },
   "outputs": [
    {
     "data": {
      "text/plain": [
       "<tbody><tr><th colspan=\"2\" style=\"text-align:center;font-size:125%;font-weight:bold;background-color: ; text-align: center; line-height:1.3em; font-size:1.25em; white-space:nowrap;\">스페인 왕국</th></tr><tr><td colspan=\"2\" style=\"text-align:center;background-color:#e3e3e3; font-weight:bold; font-size:1.2em;\"><span lang=\"es\">Reino de España</span></td></tr><tr class=\"mergedtoprow\"><td colspan=\"2\" style=\"text-align:center\">\n",
       "<table style=\"width: 100%; background: none; text-align: center;\">\n",
       "<tbody><tr>\n",
       "<td style=\"border: 0; vertical-align: middle; text-align:center;\"><a class=\"image\" href=\"/wiki/%ED%8C%8C%EC%9D%BC:Bandera_de_Espa%C3%B1a.svg\"><img alt=\"Bandera de España.svg\" class=\"thumbborder\" data-file-height=\"500\" data-file-width=\"750\" decoding=\"async\" height=\"100\" src=\"//upload.wikimedia.org/wikipedia/commons/thumb/8/89/Bandera_de_Espa%C3%B1a.svg/150px-Bandera_de_Espa%C3%B1a.svg.png\" srcset=\"//upload.wikimedia.org/wikipedia/commons/thumb/8/89/Bandera_de_Espa%C3%B1a.svg/225px-Bandera_de_Espa%C3%B1a.svg.png 1.5x, //upload.wikimedia.org/wikipedia/commons/thumb/8/89/Bandera_de_Espa%C3%B1a.svg/300px-Bandera_de_Espa%C3%B1a.svg.png 2x\" width=\"150\"/></a>\n",
       "</td>\n",
       "<td style=\"border: 0; vertical-align: middle; text-align:center;\"><a class=\"image\" href=\"/wiki/%ED%8C%8C%EC%9D%BC:Escudo_de_Espa%C3%B1a_(mazonado).svg\"><img alt=\"Escudo de España (mazonado).svg\" data-file-height=\"911\" data-file-width=\"910\" decoding=\"async\" height=\"100\" src=\"//upload.wikimedia.org/wikipedia/commons/thumb/8/85/Escudo_de_Espa%C3%B1a_%28mazonado%29.svg/100px-Escudo_de_Espa%C3%B1a_%28mazonado%29.svg.png\" srcset=\"//upload.wikimedia.org/wikipedia/commons/thumb/8/85/Escudo_de_Espa%C3%B1a_%28mazonado%29.svg/150px-Escudo_de_Espa%C3%B1a_%28mazonado%29.svg.png 1.5x, //upload.wikimedia.org/wikipedia/commons/thumb/8/85/Escudo_de_Espa%C3%B1a_%28mazonado%29.svg/200px-Escudo_de_Espa%C3%B1a_%28mazonado%29.svg.png 2x\" width=\"100\"/></a>\n",
       "</td></tr>\n",
       "<tr>\n",
       "<td style=\"border:0; text-align:center;\"><a href=\"/wiki/%EC%8A%A4%ED%8E%98%EC%9D%B8%EC%9D%98_%EA%B5%AD%EA%B8%B0\" title=\"스페인의 국기\">국기</a>\n",
       "</td>\n",
       "<td style=\"border:0; text-align:center;\"><a href=\"/wiki/%EC%8A%A4%ED%8E%98%EC%9D%B8%EC%9D%98_%EA%B5%AD%EC%9E%A5\" title=\"스페인의 국장\">국장</a>\n",
       "</td></tr></tbody></table></td></tr><tr><th scope=\"row\">표어</th><td><a href=\"/wiki/%ED%94%8C%EB%A3%A8%EC%8A%A4_%EC%9A%B8%ED%8A%B8%EB%9D%BC\" title=\"플루스 울트라\">Plus ultra</a> (<span style=\"font-size: smaller;\"><a href=\"/wiki/%EB%9D%BC%ED%8B%B4%EC%96%B4\" title=\"라틴어\">라틴어</a>: </span><span lang=\"la\">보다 더 멀리</span>)</td></tr><tr><th scope=\"row\"><a href=\"/wiki/%EA%B5%AD%EA%B0%80_%EB%AA%A9%EB%A1%9D\" title=\"국가 목록\">국가</a></th><td><a href=\"/wiki/%EC%8A%A4%ED%8E%98%EC%9D%B8%EC%9D%98_%EA%B5%AD%EA%B0%80\" title=\"스페인의 국가\">왕의 행진</a> <audio controls=\"\" data-durationhint=\"62\" data-mwprovider=\"wikimediacommons\" data-mwtitle=\"Marcha_Real-Royal_March_by_US_Navy_Band.ogg\" id=\"mwe_player_0\" preload=\"none\" style=\"width:220px;\" width=\"220\"><source data-bandwidth=\"194720\" data-height=\"0\" data-shorttitle=\"MP3\" data-title=\"MP3\" data-transcodekey=\"mp3\" data-width=\"0\" src=\"//upload.wikimedia.org/wikipedia/commons/transcoded/c/c8/Marcha_Real-Royal_March_by_US_Navy_Band.ogg/Marcha_Real-Royal_March_by_US_Navy_Band.ogg.mp3\" type=\"audio/mpeg\"/><source data-bandwidth=\"334039\" data-height=\"0\" data-shorttitle=\"Ogg 원본\" data-title=\"원본 Ogg 파일 (334 kbps)\" data-width=\"0\" src=\"//upload.wikimedia.org/wikipedia/commons/c/c8/Marcha_Real-Royal_March_by_US_Navy_Band.ogg\" type='audio/ogg; codecs=\"vorbis\"'/><track data-dir=\"ltr\" kind=\"subtitles\" label=\"English ‪(en)‬\" src=\"https://commons.wikimedia.org/w/api.php?action=timedtext&amp;title=File%3AMarcha_Real-Royal_March_by_US_Navy_Band.ogg&amp;lang=en&amp;trackformat=vtt&amp;origin=%2A\" srclang=\"en\" type=\"text/vtt\"/><track data-dir=\"ltr\" kind=\"subtitles\" label=\"español ‪(es)‬\" src=\"https://commons.wikimedia.org/w/api.php?action=timedtext&amp;title=File%3AMarcha_Real-Royal_March_by_US_Navy_Band.ogg&amp;lang=es&amp;trackformat=vtt&amp;origin=%2A\" srclang=\"es\" type=\"text/vtt\"/><track data-dir=\"ltr\" kind=\"subtitles\" label=\"português ‪(pt)‬\" src=\"https://commons.wikimedia.org/w/api.php?action=timedtext&amp;title=File%3AMarcha_Real-Royal_March_by_US_Navy_Band.ogg&amp;lang=pt&amp;trackformat=vtt&amp;origin=%2A\" srclang=\"pt\" type=\"text/vtt\"/></audio></td></tr><tr><td colspan=\"2\" style=\"text-align:center\"><div class=\"switcher-container\"><div><a class=\"image\" href=\"/wiki/%ED%8C%8C%EC%9D%BC:EU-Spain_(orthographic_projection).svg\"><img alt=\"EU-Spain (orthographic projection).svg\" data-file-height=\"2000\" data-file-width=\"2000\" decoding=\"async\" height=\"250\" src=\"//upload.wikimedia.org/wikipedia/commons/thumb/c/ca/EU-Spain_%28orthographic_projection%29.svg/250px-EU-Spain_%28orthographic_projection%29.svg.png\" srcset=\"//upload.wikimedia.org/wikipedia/commons/thumb/c/ca/EU-Spain_%28orthographic_projection%29.svg/375px-EU-Spain_%28orthographic_projection%29.svg.png 1.5x, //upload.wikimedia.org/wikipedia/commons/thumb/c/ca/EU-Spain_%28orthographic_projection%29.svg/500px-EU-Spain_%28orthographic_projection%29.svg.png 2x\" width=\"250\"/></a><span class=\"switcher-label\" style=\"display:none\">지구 상의 스페인</span></div><div><a class=\"image\" href=\"/wiki/%ED%8C%8C%EC%9D%BC:EU-Spain.svg\"><img alt=\"EU-Spain.svg\" data-file-height=\"1720\" data-file-width=\"2045\" decoding=\"async\" height=\"210\" src=\"//upload.wikimedia.org/wikipedia/commons/thumb/2/21/EU-Spain.svg/250px-EU-Spain.svg.png\" srcset=\"//upload.wikimedia.org/wikipedia/commons/thumb/2/21/EU-Spain.svg/375px-EU-Spain.svg.png 1.5x, //upload.wikimedia.org/wikipedia/commons/thumb/2/21/EU-Spain.svg/500px-EU-Spain.svg.png 2x\" width=\"250\"/></a><span class=\"switcher-label\" data-switcher-default=\"\" style=\"display:none\">유럽에서의 스페인</span></div></div><div style=\"text-align: center;\">스페인의 위치(초록색)<br/><a href=\"/wiki/%EC%9C%A0%EB%9F%BD\" title=\"유럽\">유럽</a>(짙은 회색), <a href=\"/wiki/%EC%9C%A0%EB%9F%BD_%EC%97%B0%ED%95%A9\" title=\"유럽 연합\">유럽 연합</a>(연두색)</div></td></tr><tr><th scope=\"row\"><a href=\"/wiki/%EC%88%98%EB%8F%84\" title=\"수도\">수도</a></th><td><a href=\"/wiki/%EB%A7%88%EB%93%9C%EB%A6%AC%EB%93%9C\" title=\"마드리드\">마드리드</a> <span style=\"white-space:nowrap;font-size:85%;\"><style data-mw-deduplicate=\"TemplateStyles:r27121890\">.mw-parser-output .geo-default,.mw-parser-output .geo-dms,.mw-parser-output .geo-dec{display:inline}.mw-parser-output .geo-nondefault,.mw-parser-output .geo-multi-punct{display:none}.mw-parser-output .longitude,.mw-parser-output .latitude{white-space:nowrap}</style><span class=\"plainlinks nourlexpansion\"><a class=\"external text\" href=\"//geohack.toolforge.org/geohack.php?language=ko&amp;pagename=%EC%8A%A4%ED%8E%98%EC%9D%B8&amp;params=40.383333_N_-3.716667_E_\"><span class=\"geo-default\"><span class=\"geo-dms\" title=\"이 위치에 대한 지도와 항공사진 및 기타 정보를 보여줍니다\"><span class=\"latitude\">북위 40° 23′ 00″</span> <span class=\"longitude\">서경 3° 43′ 00″</span></span></span><span class=\"geo-multi-punct\">﻿ / ﻿</span><span class=\"geo-nondefault\"><span class=\"geo-dec\" title=\"이 위치에 대한 지도와 항공사진 및 기타 정보를 보여줍니다\">북위 40.383333°  서경 3.716667° </span><span style=\"display:none\">﻿ / <span class=\"geo\">40.383333; -3.716667</span></span></span></a></span></span></td></tr><tr><td colspan=\"2\" style=\"text-align:center\"><div style=\"margin:7px; width: 202px; float:none; clear:both; margin-left: auto; margin-right: auto; ;\"><div style=\"position: relative;border: 1px solid #CCCCCC; padding: 0px; width: 200px\"><a class=\"image\" href=\"/wiki/%ED%8C%8C%EC%9D%BC:Spain_location_map.svg\" title=\"마드리드는 스페인의 수도이자 최대 도시이다\"><img alt=\"마드리드는 스페인의 수도이자 최대 도시이다\" data-file-height=\"1016\" data-file-width=\"1184\" decoding=\"async\" height=\"172\" src=\"//upload.wikimedia.org/wikipedia/commons/thumb/8/88/Spain_location_map.svg/200px-Spain_location_map.svg.png\" srcset=\"//upload.wikimedia.org/wikipedia/commons/thumb/8/88/Spain_location_map.svg/300px-Spain_location_map.svg.png 1.5x, //upload.wikimedia.org/wikipedia/commons/thumb/8/88/Spain_location_map.svg/400px-Spain_location_map.svg.png 2x\" width=\"200\"/></a><br/><div style=\"position: absolute; z-index: 2; top: 41.4%; left: 42.1%; height: 0; width: 0; margin: 0; padding: 0;\"><div style=\"position: relative; text-align: center; left: -2px; top: -2px; width: 4px; font-size: 4px; line-height:0;\"><img alt=\"\" data-file-height=\"64\" data-file-width=\"64\" decoding=\"async\" height=\"4\" src=\"//upload.wikimedia.org/wikipedia/commons/thumb/0/0c/Red_pog.svg/4px-Red_pog.svg.png\" srcset=\"//upload.wikimedia.org/wikipedia/commons/thumb/0/0c/Red_pog.svg/6px-Red_pog.svg.png 1.5x, //upload.wikimedia.org/wikipedia/commons/thumb/0/0c/Red_pog.svg/8px-Red_pog.svg.png 2x\" title=\"마드리드\" width=\"4\"/></div><div style=\"font-size: 80%; line-height: 120%; z-index:90; position: relative; top: -1.5em; width: 6em; left: 0.5em; text-align: left;\"><span style=\"padding: 1px; white-space: nowrap;\"><a href=\"/wiki/%EB%A7%88%EB%93%9C%EB%A6%AC%EB%93%9C\" title=\"마드리드\"><span style=\"font-size: 9pt; white-space: nowrap\" title=\"마드리드는 스페인의 수도이자 최대 도시이다\">마드리드</span></a></span></div></div></div></div>\n",
       "</td></tr><tr><th colspan=\"2\" style=\"text-align:center;background-color: #e9e5e5; text-align: center; line-height: 1.4em;\"><a href=\"/wiki/%EC%A0%95%EC%B9%98\" title=\"정치\">정치</a></th></tr><tr><th scope=\"row\"><a class=\"mw-redirect\" href=\"/wiki/%EC%A0%95%EC%B9%98%EC%B2%B4%EC%A0%9C\" title=\"정치체제\">정치체제</a></th><td><a href=\"/wiki/%EC%9E%85%ED%97%8C%EA%B5%B0%EC%A3%BC%EC%A0%9C\" title=\"입헌군주제\">입헌군주제</a>, <a href=\"/wiki/%EC%9D%98%EC%9B%90%EB%82%B4%EA%B0%81%EC%A0%9C\" title=\"의원내각제\">의원내각제</a></td></tr><tr><th scope=\"row\"><a class=\"mw-redirect\" href=\"/wiki/%EC%8A%A4%ED%8E%98%EC%9D%B8%EC%9D%98_%EA%B5%B0%EC%A3%BC\" title=\"스페인의 군주\">국왕</a><br/><a href=\"/wiki/%EC%8A%A4%ED%8E%98%EC%9D%B8%EC%9D%98_%EC%B4%9D%EB%A6%AC\" title=\"스페인의 총리\">총리</a></th><td><a href=\"/wiki/%ED%8E%A0%EB%A6%AC%ED%8E%98_6%EC%84%B8\" title=\"펠리페 6세\">펠리페 6세</a><br/><a href=\"/wiki/%ED%8E%98%EB%93%9C%EB%A1%9C_%EC%82%B0%EC%B2%B4%EC%8A%A4\" title=\"페드로 산체스\">페드로 산체스</a></td></tr><tr><th scope=\"row\"><a href=\"/wiki/%EC%97%AC%EB%8B%B9\" title=\"여당\">집권여당</a></th><td><a href=\"/wiki/%EC%8A%A4%ED%8E%98%EC%9D%B8_%EC%82%AC%ED%9A%8C%EB%85%B8%EB%8F%99%EB%8B%B9\" title=\"스페인 사회노동당\">스페인 사회노동당</a></td></tr><tr><th colspan=\"2\" style=\"text-align:center;background-color: #e9e5e5; text-align: center; line-height: 1.4em;\"><a href=\"/wiki/%EC%8A%A4%ED%8E%98%EC%9D%B8%EC%9D%98_%EC%97%AD%EC%82%AC\" title=\"스페인의 역사\">역사</a></th></tr><tr><th scope=\"row\">건국</th><td> </td></tr><tr class=\"mergedrow\"><th scope=\"row\"> • <a href=\"/wiki/%EB%A0%88%EC%BD%A9%ED%82%A4%EC%8A%A4%ED%83%80\" title=\"레콩키스타\">레콩키스타</a></th><td><a href=\"/wiki/1469%EB%85%84\" title=\"1469년\">1469년</a></td></tr><tr class=\"mergedrow\"><th scope=\"row\"> • <a href=\"/wiki/%EC%8A%A4%ED%8E%98%EC%9D%B8%EC%9D%98_%EB%AF%BC%EC%A3%BC%ED%99%94\" title=\"스페인의 민주화\">왕정복고</a></th><td><a href=\"/wiki/1975%EB%85%84\" title=\"1975년\">1975년</a></td></tr><tr class=\"mergedrow\"><th colspan=\"2\" style=\"text-align:center;background-color: #e9e5e5; text-align: center; line-height: 1.4em;\"><a class=\"mw-redirect\" href=\"/wiki/%EC%A7%80%EB%A6%AC\" title=\"지리\">지리</a></th></tr><tr><th scope=\"row\"><a href=\"/wiki/%EB%84%93%EC%9D%B4\" title=\"넓이\">면적</a></th><td>505,990 <a href=\"/wiki/%EC%A0%9C%EA%B3%B1%ED%82%AC%EB%A1%9C%EB%AF%B8%ED%84%B0\" title=\"제곱킬로미터\">km<sup>2</sup></a> (<a href=\"/wiki/%EB%A9%B4%EC%A0%81%EC%88%9C_%EB%82%98%EB%9D%BC_%EB%AA%A9%EB%A1%9D\" title=\"면적순 나라 목록\">51 위</a>)</td></tr><tr class=\"mergedrow\"><th scope=\"row\"><a href=\"/wiki/%ED%95%B4%EC%88%98%EB%A9%B4#내수면\" title=\"해수면\">내수면 비율</a></th><td>1.04<a href=\"/wiki/%EB%B0%B1%EB%B6%84%EC%9C%A8\" title=\"백분율\">%</a></td></tr><tr class=\"mergedrow\"><th scope=\"row\"><a href=\"/wiki/%EC%8B%9C%EA%B0%84%EB%8C%80\" title=\"시간대\">시간대</a></th><td><a class=\"mw-redirect\" href=\"/wiki/%EC%A4%91%EC%95%99%EC%9C%A0%EB%9F%BD_%EC%8B%9C%EA%B0%84%EB%8C%80\" title=\"중앙유럽 시간대\">CET</a> (<a href=\"/wiki/%ED%98%91%EC%A0%95_%EC%84%B8%EA%B3%84%EC%8B%9C\" title=\"협정 세계시\">UTC</a>+1)</td></tr><tr class=\"mergedrow\"><th scope=\"row\"><a href=\"/wiki/%EC%9D%BC%EA%B4%91_%EC%A0%88%EC%95%BD_%EC%8B%9C%EA%B0%84%EC%A0%9C\" title=\"일광 절약 시간제\">DST</a></th><td><a class=\"mw-redirect\" href=\"/wiki/%EC%A4%91%EC%95%99%EC%9C%A0%EB%9F%BD_%EC%97%AC%EB%A6%84_%EC%8B%9C%EA%B0%84%EB%8C%80\" title=\"중앙유럽 여름 시간대\">CEST</a> (<a class=\"mw-redirect\" href=\"/wiki/UTC\" title=\"UTC\">UTC</a>+2)</td></tr><tr><th colspan=\"2\" style=\"text-align:center;background-color: #e9e5e5; text-align: center; line-height: 1.4em;\"><a href=\"/wiki/%EC%9D%B8%EB%AC%B8%ED%95%99\" title=\"인문학\">인문</a></th></tr><tr><th scope=\"row\"><a href=\"/wiki/%EA%B3%B5%EC%9A%A9%EC%96%B4_%EB%AA%A9%EB%A1%9D\" title=\"공용어 목록\">공용어</a></th><td><a href=\"/wiki/%EC%8A%A4%ED%8E%98%EC%9D%B8%EC%96%B4\" title=\"스페인어\">스페인어</a></td></tr><tr class=\"mergedrow\"><th scope=\"row\">지역어</th><td><a href=\"/wiki/%EC%B9%B4%ED%83%88%EB%A3%A8%EB%83%90%EC%96%B4\" title=\"카탈루냐어\">카탈루냐어</a>, <a href=\"/wiki/%EB%B0%94%EC%8A%A4%ED%81%AC%EC%96%B4\" title=\"바스크어\">바스크어</a>, <a href=\"/wiki/%EA%B0%88%EB%A6%AC%EC%8B%9C%EC%95%84%EC%96%B4\" title=\"갈리시아어\">갈리시아어</a>, <a href=\"/wiki/%EC%98%A4%ED%81%AC%EC%96%B4\" title=\"오크어\">오크어</a></td></tr><tr><th colspan=\"2\" style=\"text-align:center;background-color: #e9e5e5; text-align: center; line-height: 1.4em;\"><a href=\"/wiki/%EC%9D%B8%EA%B5%AC%EC%88%9C_%EB%82%98%EB%9D%BC_%EB%AA%A9%EB%A1%9D\" title=\"인구순 나라 목록\">인구</a></th></tr><tr><th scope=\"row\"><a href=\"/wiki/2015%EB%85%84\" title=\"2015년\">2015년</a> 어림</th><td>46,700,000명 (30위)</td></tr><tr class=\"mergedrow\"><th scope=\"row\"><a href=\"/wiki/%EC%9D%B8%EA%B5%AC_%EB%B0%80%EB%8F%84\" title=\"인구 밀도\">인구 밀도</a></th><td>90명/km<sup>2</sup> (<a href=\"/wiki/%EC%9D%B8%EA%B5%AC_%EB%B0%80%EB%8F%84%EC%88%9C_%EB%82%98%EB%9D%BC_%EB%AA%A9%EB%A1%9D\" title=\"인구 밀도순 나라 목록\">106위</a>)</td></tr><tr><th colspan=\"2\" style=\"text-align:center;background-color: #e9e5e5; text-align: center; line-height: 1.4em;\"><a href=\"/wiki/%EA%B2%BD%EC%A0%9C\" title=\"경제\">경제</a></th></tr><tr><th scope=\"row\"><a class=\"mw-redirect\" href=\"/wiki/%EA%B5%AD%EB%82%B4_%EC%B4%9D%EC%83%9D%EC%82%B0\" title=\"국내 총생산\">GDP</a>(<a href=\"/wiki/%EA%B5%AC%EB%A7%A4%EB%A0%A5_%ED%8F%89%EA%B0%80\" title=\"구매력 평가\">PPP</a>)</th><td>2012년 어림값</td></tr><tr class=\"mergedrow\"><th scope=\"row\"> • 전체</th><td>$1조 4110억 (<a class=\"mw-redirect\" href=\"/wiki/%EA%B5%AC%EB%A7%A4%EB%A0%A5%ED%8F%89%EA%B0%80_%EA%B8%B0%EC%A4%80_%EA%B5%AD%EB%82%B4%EC%B4%9D%EC%83%9D%EC%82%B0%EC%88%9C_%EB%82%98%EB%9D%BC_%EB%AA%A9%EB%A1%9D\" title=\"구매력평가 기준 국내총생산순 나라 목록\">14위</a>)</td></tr><tr class=\"mergedrow\"><th scope=\"row\"> • 일인당</th><td>$30,577 (<a class=\"mw-redirect\" href=\"/wiki/%EA%B5%AC%EB%A7%A4%EB%A0%A5%ED%8F%89%EA%B0%80_%EA%B8%B0%EC%A4%80_%EC%9D%BC%EC%9D%B8%EB%8B%B9_%EA%B5%AD%EB%82%B4%EC%B4%9D%EC%83%9D%EC%82%B0%EC%88%9C_%EB%82%98%EB%9D%BC_%EB%AA%A9%EB%A1%9D\" title=\"구매력평가 기준 일인당 국내총생산순 나라 목록\">32위</a>)</td></tr><tr class=\"mergedrow\"><th scope=\"row\"><a class=\"mw-redirect\" href=\"/wiki/%EA%B5%AD%EB%82%B4_%EC%B4%9D%EC%83%9D%EC%82%B0\" title=\"국내 총생산\">GDP</a>(명목)</th><td>2012년 어림값</td></tr><tr class=\"mergedrow\"><th scope=\"row\"> • 전체</th><td>$1조 2,302억 (<a href=\"/wiki/%EB%AA%85%EB%AA%A9_%EA%B5%AD%EB%82%B4_%EC%B4%9D%EC%83%9D%EC%82%B0%EC%88%9C_%EB%82%98%EB%9D%BC_%EB%AA%A9%EB%A1%9D\" title=\"명목 국내 총생산순 나라 목록\">14위</a>)</td></tr><tr class=\"mergedrow\"><th scope=\"row\"><a href=\"/wiki/%EC%9D%B8%EA%B0%84_%EA%B0%9C%EB%B0%9C_%EC%A7%80%EC%88%98\" title=\"인간 개발 지수\">HDI</a></th><td>0.885 (<a href=\"/wiki/%EC%9D%B8%EA%B0%84_%EA%B0%9C%EB%B0%9C_%EC%A7%80%EC%88%98%EC%88%9C_%EB%82%98%EB%9D%BC_%EB%AA%A9%EB%A1%9D\" title=\"인간 개발 지수순 나라 목록\">23위</a>, <a href=\"/wiki/2012%EB%85%84\" title=\"2012년\">2012년</a> 조사)</td></tr><tr class=\"mergedrow\"><th scope=\"row\"><a href=\"/wiki/%ED%86%B5%ED%99%94\" title=\"통화\">통화</a></th><td><a href=\"/wiki/%EC%9C%A0%EB%A1%9C\" title=\"유로\">유로</a><sup>2</sup> (<a href=\"/wiki/ISO_4217\" title=\"ISO 4217\">EUR</a>)</td></tr><tr><th colspan=\"2\" style=\"text-align:center;background-color: #e9e5e5; text-align: center; line-height: 1.4em;\">기타</th></tr><tr><th scope=\"row\"><a href=\"/wiki/ISO_3166-1\" title=\"ISO 3166-1\">ISO 3166-1</a></th><td><a href=\"/wiki/ISO_3166-1\" title=\"ISO 3166-1\">724</a>, <a href=\"/wiki/ISO_3166-1_alpha-2\" title=\"ISO 3166-1 alpha-2\">ES</a>, <a href=\"/wiki/ISO_3166-1_alpha-3\" title=\"ISO 3166-1 alpha-3\">ESP</a></td></tr><tr class=\"mergedrow\"><th scope=\"row\"><a href=\"/wiki/%EA%B5%AD%EA%B0%80_%EC%BD%94%EB%93%9C_%EC%B5%9C%EC%83%81%EC%9C%84_%EB%8F%84%EB%A9%94%EC%9D%B8\" title=\"국가 코드 최상위 도메인\">도메인</a></th><td><a href=\"/wiki/.es\" title=\".es\">.es</a></td></tr><tr class=\"mergedrow\"><th scope=\"row\"><a class=\"mw-redirect\" href=\"/wiki/%EA%B5%AD%EC%A0%9C%EC%A0%84%ED%99%94_%EB%82%98%EB%9D%BC_%EB%B2%88%ED%98%B8\" title=\"국제전화 나라 번호\">국제 전화</a></th><td>+34</td></tr><tr><td colspan=\"2\" style=\"text-align:center;text-align: left;\"><sup>1</sup> <a href=\"/wiki/%EC%B9%B4%ED%83%88%EB%A3%A8%EB%83%90\" title=\"카탈루냐\">카탈루냐</a>, <a href=\"/wiki/%EB%B0%9C%EB%A0%88%EC%95%84%EB%A0%88%EC%8A%A4_%EC%A0%9C%EB%8F%84\" title=\"발레아레스 제도\">발레아레스 제도</a>, <a class=\"mw-redirect\" href=\"/wiki/%EB%B0%9C%EB%A0%8C%EC%8B%9C%EC%95%84_%EC%A7%80%EB%B0%A9\" title=\"발렌시아 지방\">발렌시아 지방</a>에서는 <a href=\"/wiki/%EC%B9%B4%ED%83%88%EB%A3%A8%EB%83%90%EC%96%B4\" title=\"카탈루냐어\">카탈루냐어</a>, <a class=\"mw-redirect\" href=\"/wiki/%EA%B0%88%EB%A6%AC%EC%8B%9C%EC%95%84\" title=\"갈리시아\">갈리시아</a>에서는 <a href=\"/wiki/%EA%B0%88%EB%A6%AC%EC%8B%9C%EC%95%84%EC%96%B4\" title=\"갈리시아어\">갈리시아어</a>, <a class=\"mw-redirect\" href=\"/wiki/%EB%B0%94%EC%8A%A4%ED%81%AC_%EC%A7%80%EB%B0%A9\" title=\"바스크 지방\">바스크 지방</a> 및 일부 <a class=\"mw-redirect\" href=\"/wiki/%EB%82%98%EB%B0%94%EB%9D%BC_%EC%A7%80%EB%B0%A9\" title=\"나바라 지방\">나바라 지방</a>에서는 <a href=\"/wiki/%EB%B0%94%EC%8A%A4%ED%81%AC%EC%96%B4\" title=\"바스크어\">바스크어</a>, <a href=\"/wiki/%EC%95%84%EB%9E%80_%EA%B3%84%EA%B3%A1\" title=\"아란 계곡\">아란 계곡</a><sup class=\"reference\" id=\"cite_ref-Valle_de_Arán_1-0\"><a href=\"#cite_note-Valle_de_Arán-1\">[1]</a></sup>에서는 <a class=\"mw-redirect\" href=\"/wiki/%EC%95%84%EB%9E%80%EC%96%B4\" title=\"아란어\">아란어</a>가 공용어(co-oficial)로 인정되어 있다.<sup class=\"reference\" id=\"cite_ref-2\"><a href=\"#cite_note-2\">[2]</a></sup><sup class=\"reference\" id=\"cite_ref-3\"><a href=\"#cite_note-3\">[3]</a></sup><br/><sup>2</sup> <a href=\"/wiki/1999%EB%85%84\" title=\"1999년\">1999년</a>까지는 <a href=\"/wiki/%EC%8A%A4%ED%8E%98%EC%9D%B8_%ED%8E%98%EC%84%B8%ED%83%80\" title=\"스페인 페세타\">페세타</a>\n",
       "<div class=\"mw-references-wrap\"><ol class=\"references\">\n",
       "<li id=\"cite_note-Valle_de_Arán-1\"><span class=\"mw-cite-backlink\"><a href=\"#cite_ref-Valle_de_Arán_1-0\">↑</a></span> <span class=\"reference-text\"><b><span style=\"color: #555; font-size: smaller;\" title=\"언어: 스페인어\">(스페인어)</span></b> <a class=\"external text\" href=\"https://es.wikipedia.org/wiki/Valle_de_Arán\">Valle de Arán</a></span>\n",
       "</li>\n",
       "<li id=\"cite_note-2\"><span class=\"mw-cite-backlink\"><a href=\"#cite_ref-2\">↑</a></span> <span class=\"reference-text\"><b><span style=\"color: #555; font-size: smaller;\" title=\"언어: 스페인어\">(스페인어)</span></b> <a class=\"external text\" href=\"http://www.elmundo.es/elmundo/2010/09/22/barcelona/1285153737.html\" rel=\"nofollow\">Cataluña admite la oficialidad del aranés y se implica en su protección y difusión</a></span>\n",
       "</li>\n",
       "<li id=\"cite_note-3\"><span class=\"mw-cite-backlink\"><a href=\"#cite_ref-3\">↑</a></span> <span class=\"reference-text\"><a class=\"external text\" href=\"https://ko.wikipedia.org/wiki/스페인의_언어\">스페인의 언어</a></span>\n",
       "</li>\n",
       "</ol></div></td></tr></tbody>"
      ]
     },
     "execution_count": 6,
     "metadata": {},
     "output_type": "execute_result"
    }
   ],
   "source": [
    "tbody = target.find('tbody')\n",
    "tbody"
   ]
  },
  {
   "cell_type": "code",
   "execution_count": 7,
   "id": "c6ac8eef",
   "metadata": {},
   "outputs": [
    {
     "data": {
      "text/plain": [
       "[<tr><th colspan=\"2\" style=\"text-align:center;font-size:125%;font-weight:bold;background-color: ; text-align: center; line-height:1.3em; font-size:1.25em; white-space:nowrap;\">스페인 왕국</th></tr>,\n",
       " <tr><td colspan=\"2\" style=\"text-align:center;background-color:#e3e3e3; font-weight:bold; font-size:1.2em;\"><span lang=\"es\">Reino de España</span></td></tr>,\n",
       " <tr class=\"mergedtoprow\"><td colspan=\"2\" style=\"text-align:center\">\n",
       " <table style=\"width: 100%; background: none; text-align: center;\">\n",
       " <tbody><tr>\n",
       " <td style=\"border: 0; vertical-align: middle; text-align:center;\"><a class=\"image\" href=\"/wiki/%ED%8C%8C%EC%9D%BC:Bandera_de_Espa%C3%B1a.svg\"><img alt=\"Bandera de España.svg\" class=\"thumbborder\" data-file-height=\"500\" data-file-width=\"750\" decoding=\"async\" height=\"100\" src=\"//upload.wikimedia.org/wikipedia/commons/thumb/8/89/Bandera_de_Espa%C3%B1a.svg/150px-Bandera_de_Espa%C3%B1a.svg.png\" srcset=\"//upload.wikimedia.org/wikipedia/commons/thumb/8/89/Bandera_de_Espa%C3%B1a.svg/225px-Bandera_de_Espa%C3%B1a.svg.png 1.5x, //upload.wikimedia.org/wikipedia/commons/thumb/8/89/Bandera_de_Espa%C3%B1a.svg/300px-Bandera_de_Espa%C3%B1a.svg.png 2x\" width=\"150\"/></a>\n",
       " </td>\n",
       " <td style=\"border: 0; vertical-align: middle; text-align:center;\"><a class=\"image\" href=\"/wiki/%ED%8C%8C%EC%9D%BC:Escudo_de_Espa%C3%B1a_(mazonado).svg\"><img alt=\"Escudo de España (mazonado).svg\" data-file-height=\"911\" data-file-width=\"910\" decoding=\"async\" height=\"100\" src=\"//upload.wikimedia.org/wikipedia/commons/thumb/8/85/Escudo_de_Espa%C3%B1a_%28mazonado%29.svg/100px-Escudo_de_Espa%C3%B1a_%28mazonado%29.svg.png\" srcset=\"//upload.wikimedia.org/wikipedia/commons/thumb/8/85/Escudo_de_Espa%C3%B1a_%28mazonado%29.svg/150px-Escudo_de_Espa%C3%B1a_%28mazonado%29.svg.png 1.5x, //upload.wikimedia.org/wikipedia/commons/thumb/8/85/Escudo_de_Espa%C3%B1a_%28mazonado%29.svg/200px-Escudo_de_Espa%C3%B1a_%28mazonado%29.svg.png 2x\" width=\"100\"/></a>\n",
       " </td></tr>\n",
       " <tr>\n",
       " <td style=\"border:0; text-align:center;\"><a href=\"/wiki/%EC%8A%A4%ED%8E%98%EC%9D%B8%EC%9D%98_%EA%B5%AD%EA%B8%B0\" title=\"스페인의 국기\">국기</a>\n",
       " </td>\n",
       " <td style=\"border:0; text-align:center;\"><a href=\"/wiki/%EC%8A%A4%ED%8E%98%EC%9D%B8%EC%9D%98_%EA%B5%AD%EC%9E%A5\" title=\"스페인의 국장\">국장</a>\n",
       " </td></tr></tbody></table></td></tr>,\n",
       " <tr>\n",
       " <td style=\"border: 0; vertical-align: middle; text-align:center;\"><a class=\"image\" href=\"/wiki/%ED%8C%8C%EC%9D%BC:Bandera_de_Espa%C3%B1a.svg\"><img alt=\"Bandera de España.svg\" class=\"thumbborder\" data-file-height=\"500\" data-file-width=\"750\" decoding=\"async\" height=\"100\" src=\"//upload.wikimedia.org/wikipedia/commons/thumb/8/89/Bandera_de_Espa%C3%B1a.svg/150px-Bandera_de_Espa%C3%B1a.svg.png\" srcset=\"//upload.wikimedia.org/wikipedia/commons/thumb/8/89/Bandera_de_Espa%C3%B1a.svg/225px-Bandera_de_Espa%C3%B1a.svg.png 1.5x, //upload.wikimedia.org/wikipedia/commons/thumb/8/89/Bandera_de_Espa%C3%B1a.svg/300px-Bandera_de_Espa%C3%B1a.svg.png 2x\" width=\"150\"/></a>\n",
       " </td>\n",
       " <td style=\"border: 0; vertical-align: middle; text-align:center;\"><a class=\"image\" href=\"/wiki/%ED%8C%8C%EC%9D%BC:Escudo_de_Espa%C3%B1a_(mazonado).svg\"><img alt=\"Escudo de España (mazonado).svg\" data-file-height=\"911\" data-file-width=\"910\" decoding=\"async\" height=\"100\" src=\"//upload.wikimedia.org/wikipedia/commons/thumb/8/85/Escudo_de_Espa%C3%B1a_%28mazonado%29.svg/100px-Escudo_de_Espa%C3%B1a_%28mazonado%29.svg.png\" srcset=\"//upload.wikimedia.org/wikipedia/commons/thumb/8/85/Escudo_de_Espa%C3%B1a_%28mazonado%29.svg/150px-Escudo_de_Espa%C3%B1a_%28mazonado%29.svg.png 1.5x, //upload.wikimedia.org/wikipedia/commons/thumb/8/85/Escudo_de_Espa%C3%B1a_%28mazonado%29.svg/200px-Escudo_de_Espa%C3%B1a_%28mazonado%29.svg.png 2x\" width=\"100\"/></a>\n",
       " </td></tr>,\n",
       " <tr>\n",
       " <td style=\"border:0; text-align:center;\"><a href=\"/wiki/%EC%8A%A4%ED%8E%98%EC%9D%B8%EC%9D%98_%EA%B5%AD%EA%B8%B0\" title=\"스페인의 국기\">국기</a>\n",
       " </td>\n",
       " <td style=\"border:0; text-align:center;\"><a href=\"/wiki/%EC%8A%A4%ED%8E%98%EC%9D%B8%EC%9D%98_%EA%B5%AD%EC%9E%A5\" title=\"스페인의 국장\">국장</a>\n",
       " </td></tr>,\n",
       " <tr><th scope=\"row\">표어</th><td><a href=\"/wiki/%ED%94%8C%EB%A3%A8%EC%8A%A4_%EC%9A%B8%ED%8A%B8%EB%9D%BC\" title=\"플루스 울트라\">Plus ultra</a> (<span style=\"font-size: smaller;\"><a href=\"/wiki/%EB%9D%BC%ED%8B%B4%EC%96%B4\" title=\"라틴어\">라틴어</a>: </span><span lang=\"la\">보다 더 멀리</span>)</td></tr>,\n",
       " <tr><th scope=\"row\"><a href=\"/wiki/%EA%B5%AD%EA%B0%80_%EB%AA%A9%EB%A1%9D\" title=\"국가 목록\">국가</a></th><td><a href=\"/wiki/%EC%8A%A4%ED%8E%98%EC%9D%B8%EC%9D%98_%EA%B5%AD%EA%B0%80\" title=\"스페인의 국가\">왕의 행진</a> <audio controls=\"\" data-durationhint=\"62\" data-mwprovider=\"wikimediacommons\" data-mwtitle=\"Marcha_Real-Royal_March_by_US_Navy_Band.ogg\" id=\"mwe_player_0\" preload=\"none\" style=\"width:220px;\" width=\"220\"><source data-bandwidth=\"194720\" data-height=\"0\" data-shorttitle=\"MP3\" data-title=\"MP3\" data-transcodekey=\"mp3\" data-width=\"0\" src=\"//upload.wikimedia.org/wikipedia/commons/transcoded/c/c8/Marcha_Real-Royal_March_by_US_Navy_Band.ogg/Marcha_Real-Royal_March_by_US_Navy_Band.ogg.mp3\" type=\"audio/mpeg\"/><source data-bandwidth=\"334039\" data-height=\"0\" data-shorttitle=\"Ogg 원본\" data-title=\"원본 Ogg 파일 (334 kbps)\" data-width=\"0\" src=\"//upload.wikimedia.org/wikipedia/commons/c/c8/Marcha_Real-Royal_March_by_US_Navy_Band.ogg\" type='audio/ogg; codecs=\"vorbis\"'/><track data-dir=\"ltr\" kind=\"subtitles\" label=\"English ‪(en)‬\" src=\"https://commons.wikimedia.org/w/api.php?action=timedtext&amp;title=File%3AMarcha_Real-Royal_March_by_US_Navy_Band.ogg&amp;lang=en&amp;trackformat=vtt&amp;origin=%2A\" srclang=\"en\" type=\"text/vtt\"/><track data-dir=\"ltr\" kind=\"subtitles\" label=\"español ‪(es)‬\" src=\"https://commons.wikimedia.org/w/api.php?action=timedtext&amp;title=File%3AMarcha_Real-Royal_March_by_US_Navy_Band.ogg&amp;lang=es&amp;trackformat=vtt&amp;origin=%2A\" srclang=\"es\" type=\"text/vtt\"/><track data-dir=\"ltr\" kind=\"subtitles\" label=\"português ‪(pt)‬\" src=\"https://commons.wikimedia.org/w/api.php?action=timedtext&amp;title=File%3AMarcha_Real-Royal_March_by_US_Navy_Band.ogg&amp;lang=pt&amp;trackformat=vtt&amp;origin=%2A\" srclang=\"pt\" type=\"text/vtt\"/></audio></td></tr>,\n",
       " <tr><td colspan=\"2\" style=\"text-align:center\"><div class=\"switcher-container\"><div><a class=\"image\" href=\"/wiki/%ED%8C%8C%EC%9D%BC:EU-Spain_(orthographic_projection).svg\"><img alt=\"EU-Spain (orthographic projection).svg\" data-file-height=\"2000\" data-file-width=\"2000\" decoding=\"async\" height=\"250\" src=\"//upload.wikimedia.org/wikipedia/commons/thumb/c/ca/EU-Spain_%28orthographic_projection%29.svg/250px-EU-Spain_%28orthographic_projection%29.svg.png\" srcset=\"//upload.wikimedia.org/wikipedia/commons/thumb/c/ca/EU-Spain_%28orthographic_projection%29.svg/375px-EU-Spain_%28orthographic_projection%29.svg.png 1.5x, //upload.wikimedia.org/wikipedia/commons/thumb/c/ca/EU-Spain_%28orthographic_projection%29.svg/500px-EU-Spain_%28orthographic_projection%29.svg.png 2x\" width=\"250\"/></a><span class=\"switcher-label\" style=\"display:none\">지구 상의 스페인</span></div><div><a class=\"image\" href=\"/wiki/%ED%8C%8C%EC%9D%BC:EU-Spain.svg\"><img alt=\"EU-Spain.svg\" data-file-height=\"1720\" data-file-width=\"2045\" decoding=\"async\" height=\"210\" src=\"//upload.wikimedia.org/wikipedia/commons/thumb/2/21/EU-Spain.svg/250px-EU-Spain.svg.png\" srcset=\"//upload.wikimedia.org/wikipedia/commons/thumb/2/21/EU-Spain.svg/375px-EU-Spain.svg.png 1.5x, //upload.wikimedia.org/wikipedia/commons/thumb/2/21/EU-Spain.svg/500px-EU-Spain.svg.png 2x\" width=\"250\"/></a><span class=\"switcher-label\" data-switcher-default=\"\" style=\"display:none\">유럽에서의 스페인</span></div></div><div style=\"text-align: center;\">스페인의 위치(초록색)<br/><a href=\"/wiki/%EC%9C%A0%EB%9F%BD\" title=\"유럽\">유럽</a>(짙은 회색), <a href=\"/wiki/%EC%9C%A0%EB%9F%BD_%EC%97%B0%ED%95%A9\" title=\"유럽 연합\">유럽 연합</a>(연두색)</div></td></tr>,\n",
       " <tr><th scope=\"row\"><a href=\"/wiki/%EC%88%98%EB%8F%84\" title=\"수도\">수도</a></th><td><a href=\"/wiki/%EB%A7%88%EB%93%9C%EB%A6%AC%EB%93%9C\" title=\"마드리드\">마드리드</a> <span style=\"white-space:nowrap;font-size:85%;\"><style data-mw-deduplicate=\"TemplateStyles:r27121890\">.mw-parser-output .geo-default,.mw-parser-output .geo-dms,.mw-parser-output .geo-dec{display:inline}.mw-parser-output .geo-nondefault,.mw-parser-output .geo-multi-punct{display:none}.mw-parser-output .longitude,.mw-parser-output .latitude{white-space:nowrap}</style><span class=\"plainlinks nourlexpansion\"><a class=\"external text\" href=\"//geohack.toolforge.org/geohack.php?language=ko&amp;pagename=%EC%8A%A4%ED%8E%98%EC%9D%B8&amp;params=40.383333_N_-3.716667_E_\"><span class=\"geo-default\"><span class=\"geo-dms\" title=\"이 위치에 대한 지도와 항공사진 및 기타 정보를 보여줍니다\"><span class=\"latitude\">북위 40° 23′ 00″</span> <span class=\"longitude\">서경 3° 43′ 00″</span></span></span><span class=\"geo-multi-punct\">﻿ / ﻿</span><span class=\"geo-nondefault\"><span class=\"geo-dec\" title=\"이 위치에 대한 지도와 항공사진 및 기타 정보를 보여줍니다\">북위 40.383333°  서경 3.716667° </span><span style=\"display:none\">﻿ / <span class=\"geo\">40.383333; -3.716667</span></span></span></a></span></span></td></tr>,\n",
       " <tr><td colspan=\"2\" style=\"text-align:center\"><div style=\"margin:7px; width: 202px; float:none; clear:both; margin-left: auto; margin-right: auto; ;\"><div style=\"position: relative;border: 1px solid #CCCCCC; padding: 0px; width: 200px\"><a class=\"image\" href=\"/wiki/%ED%8C%8C%EC%9D%BC:Spain_location_map.svg\" title=\"마드리드는 스페인의 수도이자 최대 도시이다\"><img alt=\"마드리드는 스페인의 수도이자 최대 도시이다\" data-file-height=\"1016\" data-file-width=\"1184\" decoding=\"async\" height=\"172\" src=\"//upload.wikimedia.org/wikipedia/commons/thumb/8/88/Spain_location_map.svg/200px-Spain_location_map.svg.png\" srcset=\"//upload.wikimedia.org/wikipedia/commons/thumb/8/88/Spain_location_map.svg/300px-Spain_location_map.svg.png 1.5x, //upload.wikimedia.org/wikipedia/commons/thumb/8/88/Spain_location_map.svg/400px-Spain_location_map.svg.png 2x\" width=\"200\"/></a><br/><div style=\"position: absolute; z-index: 2; top: 41.4%; left: 42.1%; height: 0; width: 0; margin: 0; padding: 0;\"><div style=\"position: relative; text-align: center; left: -2px; top: -2px; width: 4px; font-size: 4px; line-height:0;\"><img alt=\"\" data-file-height=\"64\" data-file-width=\"64\" decoding=\"async\" height=\"4\" src=\"//upload.wikimedia.org/wikipedia/commons/thumb/0/0c/Red_pog.svg/4px-Red_pog.svg.png\" srcset=\"//upload.wikimedia.org/wikipedia/commons/thumb/0/0c/Red_pog.svg/6px-Red_pog.svg.png 1.5x, //upload.wikimedia.org/wikipedia/commons/thumb/0/0c/Red_pog.svg/8px-Red_pog.svg.png 2x\" title=\"마드리드\" width=\"4\"/></div><div style=\"font-size: 80%; line-height: 120%; z-index:90; position: relative; top: -1.5em; width: 6em; left: 0.5em; text-align: left;\"><span style=\"padding: 1px; white-space: nowrap;\"><a href=\"/wiki/%EB%A7%88%EB%93%9C%EB%A6%AC%EB%93%9C\" title=\"마드리드\"><span style=\"font-size: 9pt; white-space: nowrap\" title=\"마드리드는 스페인의 수도이자 최대 도시이다\">마드리드</span></a></span></div></div></div></div>\n",
       " </td></tr>,\n",
       " <tr><th colspan=\"2\" style=\"text-align:center;background-color: #e9e5e5; text-align: center; line-height: 1.4em;\"><a href=\"/wiki/%EC%A0%95%EC%B9%98\" title=\"정치\">정치</a></th></tr>,\n",
       " <tr><th scope=\"row\"><a class=\"mw-redirect\" href=\"/wiki/%EC%A0%95%EC%B9%98%EC%B2%B4%EC%A0%9C\" title=\"정치체제\">정치체제</a></th><td><a href=\"/wiki/%EC%9E%85%ED%97%8C%EA%B5%B0%EC%A3%BC%EC%A0%9C\" title=\"입헌군주제\">입헌군주제</a>, <a href=\"/wiki/%EC%9D%98%EC%9B%90%EB%82%B4%EA%B0%81%EC%A0%9C\" title=\"의원내각제\">의원내각제</a></td></tr>,\n",
       " <tr><th scope=\"row\"><a class=\"mw-redirect\" href=\"/wiki/%EC%8A%A4%ED%8E%98%EC%9D%B8%EC%9D%98_%EA%B5%B0%EC%A3%BC\" title=\"스페인의 군주\">국왕</a><br/><a href=\"/wiki/%EC%8A%A4%ED%8E%98%EC%9D%B8%EC%9D%98_%EC%B4%9D%EB%A6%AC\" title=\"스페인의 총리\">총리</a></th><td><a href=\"/wiki/%ED%8E%A0%EB%A6%AC%ED%8E%98_6%EC%84%B8\" title=\"펠리페 6세\">펠리페 6세</a><br/><a href=\"/wiki/%ED%8E%98%EB%93%9C%EB%A1%9C_%EC%82%B0%EC%B2%B4%EC%8A%A4\" title=\"페드로 산체스\">페드로 산체스</a></td></tr>,\n",
       " <tr><th scope=\"row\"><a href=\"/wiki/%EC%97%AC%EB%8B%B9\" title=\"여당\">집권여당</a></th><td><a href=\"/wiki/%EC%8A%A4%ED%8E%98%EC%9D%B8_%EC%82%AC%ED%9A%8C%EB%85%B8%EB%8F%99%EB%8B%B9\" title=\"스페인 사회노동당\">스페인 사회노동당</a></td></tr>,\n",
       " <tr><th colspan=\"2\" style=\"text-align:center;background-color: #e9e5e5; text-align: center; line-height: 1.4em;\"><a href=\"/wiki/%EC%8A%A4%ED%8E%98%EC%9D%B8%EC%9D%98_%EC%97%AD%EC%82%AC\" title=\"스페인의 역사\">역사</a></th></tr>,\n",
       " <tr><th scope=\"row\">건국</th><td> </td></tr>,\n",
       " <tr class=\"mergedrow\"><th scope=\"row\"> • <a href=\"/wiki/%EB%A0%88%EC%BD%A9%ED%82%A4%EC%8A%A4%ED%83%80\" title=\"레콩키스타\">레콩키스타</a></th><td><a href=\"/wiki/1469%EB%85%84\" title=\"1469년\">1469년</a></td></tr>,\n",
       " <tr class=\"mergedrow\"><th scope=\"row\"> • <a href=\"/wiki/%EC%8A%A4%ED%8E%98%EC%9D%B8%EC%9D%98_%EB%AF%BC%EC%A3%BC%ED%99%94\" title=\"스페인의 민주화\">왕정복고</a></th><td><a href=\"/wiki/1975%EB%85%84\" title=\"1975년\">1975년</a></td></tr>,\n",
       " <tr class=\"mergedrow\"><th colspan=\"2\" style=\"text-align:center;background-color: #e9e5e5; text-align: center; line-height: 1.4em;\"><a class=\"mw-redirect\" href=\"/wiki/%EC%A7%80%EB%A6%AC\" title=\"지리\">지리</a></th></tr>,\n",
       " <tr><th scope=\"row\"><a href=\"/wiki/%EB%84%93%EC%9D%B4\" title=\"넓이\">면적</a></th><td>505,990 <a href=\"/wiki/%EC%A0%9C%EA%B3%B1%ED%82%AC%EB%A1%9C%EB%AF%B8%ED%84%B0\" title=\"제곱킬로미터\">km<sup>2</sup></a> (<a href=\"/wiki/%EB%A9%B4%EC%A0%81%EC%88%9C_%EB%82%98%EB%9D%BC_%EB%AA%A9%EB%A1%9D\" title=\"면적순 나라 목록\">51 위</a>)</td></tr>,\n",
       " <tr class=\"mergedrow\"><th scope=\"row\"><a href=\"/wiki/%ED%95%B4%EC%88%98%EB%A9%B4#내수면\" title=\"해수면\">내수면 비율</a></th><td>1.04<a href=\"/wiki/%EB%B0%B1%EB%B6%84%EC%9C%A8\" title=\"백분율\">%</a></td></tr>,\n",
       " <tr class=\"mergedrow\"><th scope=\"row\"><a href=\"/wiki/%EC%8B%9C%EA%B0%84%EB%8C%80\" title=\"시간대\">시간대</a></th><td><a class=\"mw-redirect\" href=\"/wiki/%EC%A4%91%EC%95%99%EC%9C%A0%EB%9F%BD_%EC%8B%9C%EA%B0%84%EB%8C%80\" title=\"중앙유럽 시간대\">CET</a> (<a href=\"/wiki/%ED%98%91%EC%A0%95_%EC%84%B8%EA%B3%84%EC%8B%9C\" title=\"협정 세계시\">UTC</a>+1)</td></tr>,\n",
       " <tr class=\"mergedrow\"><th scope=\"row\"><a href=\"/wiki/%EC%9D%BC%EA%B4%91_%EC%A0%88%EC%95%BD_%EC%8B%9C%EA%B0%84%EC%A0%9C\" title=\"일광 절약 시간제\">DST</a></th><td><a class=\"mw-redirect\" href=\"/wiki/%EC%A4%91%EC%95%99%EC%9C%A0%EB%9F%BD_%EC%97%AC%EB%A6%84_%EC%8B%9C%EA%B0%84%EB%8C%80\" title=\"중앙유럽 여름 시간대\">CEST</a> (<a class=\"mw-redirect\" href=\"/wiki/UTC\" title=\"UTC\">UTC</a>+2)</td></tr>,\n",
       " <tr><th colspan=\"2\" style=\"text-align:center;background-color: #e9e5e5; text-align: center; line-height: 1.4em;\"><a href=\"/wiki/%EC%9D%B8%EB%AC%B8%ED%95%99\" title=\"인문학\">인문</a></th></tr>,\n",
       " <tr><th scope=\"row\"><a href=\"/wiki/%EA%B3%B5%EC%9A%A9%EC%96%B4_%EB%AA%A9%EB%A1%9D\" title=\"공용어 목록\">공용어</a></th><td><a href=\"/wiki/%EC%8A%A4%ED%8E%98%EC%9D%B8%EC%96%B4\" title=\"스페인어\">스페인어</a></td></tr>,\n",
       " <tr class=\"mergedrow\"><th scope=\"row\">지역어</th><td><a href=\"/wiki/%EC%B9%B4%ED%83%88%EB%A3%A8%EB%83%90%EC%96%B4\" title=\"카탈루냐어\">카탈루냐어</a>, <a href=\"/wiki/%EB%B0%94%EC%8A%A4%ED%81%AC%EC%96%B4\" title=\"바스크어\">바스크어</a>, <a href=\"/wiki/%EA%B0%88%EB%A6%AC%EC%8B%9C%EC%95%84%EC%96%B4\" title=\"갈리시아어\">갈리시아어</a>, <a href=\"/wiki/%EC%98%A4%ED%81%AC%EC%96%B4\" title=\"오크어\">오크어</a></td></tr>,\n",
       " <tr><th colspan=\"2\" style=\"text-align:center;background-color: #e9e5e5; text-align: center; line-height: 1.4em;\"><a href=\"/wiki/%EC%9D%B8%EA%B5%AC%EC%88%9C_%EB%82%98%EB%9D%BC_%EB%AA%A9%EB%A1%9D\" title=\"인구순 나라 목록\">인구</a></th></tr>,\n",
       " <tr><th scope=\"row\"><a href=\"/wiki/2015%EB%85%84\" title=\"2015년\">2015년</a> 어림</th><td>46,700,000명 (30위)</td></tr>,\n",
       " <tr class=\"mergedrow\"><th scope=\"row\"><a href=\"/wiki/%EC%9D%B8%EA%B5%AC_%EB%B0%80%EB%8F%84\" title=\"인구 밀도\">인구 밀도</a></th><td>90명/km<sup>2</sup> (<a href=\"/wiki/%EC%9D%B8%EA%B5%AC_%EB%B0%80%EB%8F%84%EC%88%9C_%EB%82%98%EB%9D%BC_%EB%AA%A9%EB%A1%9D\" title=\"인구 밀도순 나라 목록\">106위</a>)</td></tr>,\n",
       " <tr><th colspan=\"2\" style=\"text-align:center;background-color: #e9e5e5; text-align: center; line-height: 1.4em;\"><a href=\"/wiki/%EA%B2%BD%EC%A0%9C\" title=\"경제\">경제</a></th></tr>,\n",
       " <tr><th scope=\"row\"><a class=\"mw-redirect\" href=\"/wiki/%EA%B5%AD%EB%82%B4_%EC%B4%9D%EC%83%9D%EC%82%B0\" title=\"국내 총생산\">GDP</a>(<a href=\"/wiki/%EA%B5%AC%EB%A7%A4%EB%A0%A5_%ED%8F%89%EA%B0%80\" title=\"구매력 평가\">PPP</a>)</th><td>2012년 어림값</td></tr>,\n",
       " <tr class=\"mergedrow\"><th scope=\"row\"> • 전체</th><td>$1조 4110억 (<a class=\"mw-redirect\" href=\"/wiki/%EA%B5%AC%EB%A7%A4%EB%A0%A5%ED%8F%89%EA%B0%80_%EA%B8%B0%EC%A4%80_%EA%B5%AD%EB%82%B4%EC%B4%9D%EC%83%9D%EC%82%B0%EC%88%9C_%EB%82%98%EB%9D%BC_%EB%AA%A9%EB%A1%9D\" title=\"구매력평가 기준 국내총생산순 나라 목록\">14위</a>)</td></tr>,\n",
       " <tr class=\"mergedrow\"><th scope=\"row\"> • 일인당</th><td>$30,577 (<a class=\"mw-redirect\" href=\"/wiki/%EA%B5%AC%EB%A7%A4%EB%A0%A5%ED%8F%89%EA%B0%80_%EA%B8%B0%EC%A4%80_%EC%9D%BC%EC%9D%B8%EB%8B%B9_%EA%B5%AD%EB%82%B4%EC%B4%9D%EC%83%9D%EC%82%B0%EC%88%9C_%EB%82%98%EB%9D%BC_%EB%AA%A9%EB%A1%9D\" title=\"구매력평가 기준 일인당 국내총생산순 나라 목록\">32위</a>)</td></tr>,\n",
       " <tr class=\"mergedrow\"><th scope=\"row\"><a class=\"mw-redirect\" href=\"/wiki/%EA%B5%AD%EB%82%B4_%EC%B4%9D%EC%83%9D%EC%82%B0\" title=\"국내 총생산\">GDP</a>(명목)</th><td>2012년 어림값</td></tr>,\n",
       " <tr class=\"mergedrow\"><th scope=\"row\"> • 전체</th><td>$1조 2,302억 (<a href=\"/wiki/%EB%AA%85%EB%AA%A9_%EA%B5%AD%EB%82%B4_%EC%B4%9D%EC%83%9D%EC%82%B0%EC%88%9C_%EB%82%98%EB%9D%BC_%EB%AA%A9%EB%A1%9D\" title=\"명목 국내 총생산순 나라 목록\">14위</a>)</td></tr>,\n",
       " <tr class=\"mergedrow\"><th scope=\"row\"><a href=\"/wiki/%EC%9D%B8%EA%B0%84_%EA%B0%9C%EB%B0%9C_%EC%A7%80%EC%88%98\" title=\"인간 개발 지수\">HDI</a></th><td>0.885 (<a href=\"/wiki/%EC%9D%B8%EA%B0%84_%EA%B0%9C%EB%B0%9C_%EC%A7%80%EC%88%98%EC%88%9C_%EB%82%98%EB%9D%BC_%EB%AA%A9%EB%A1%9D\" title=\"인간 개발 지수순 나라 목록\">23위</a>, <a href=\"/wiki/2012%EB%85%84\" title=\"2012년\">2012년</a> 조사)</td></tr>,\n",
       " <tr class=\"mergedrow\"><th scope=\"row\"><a href=\"/wiki/%ED%86%B5%ED%99%94\" title=\"통화\">통화</a></th><td><a href=\"/wiki/%EC%9C%A0%EB%A1%9C\" title=\"유로\">유로</a><sup>2</sup> (<a href=\"/wiki/ISO_4217\" title=\"ISO 4217\">EUR</a>)</td></tr>,\n",
       " <tr><th colspan=\"2\" style=\"text-align:center;background-color: #e9e5e5; text-align: center; line-height: 1.4em;\">기타</th></tr>,\n",
       " <tr><th scope=\"row\"><a href=\"/wiki/ISO_3166-1\" title=\"ISO 3166-1\">ISO 3166-1</a></th><td><a href=\"/wiki/ISO_3166-1\" title=\"ISO 3166-1\">724</a>, <a href=\"/wiki/ISO_3166-1_alpha-2\" title=\"ISO 3166-1 alpha-2\">ES</a>, <a href=\"/wiki/ISO_3166-1_alpha-3\" title=\"ISO 3166-1 alpha-3\">ESP</a></td></tr>,\n",
       " <tr class=\"mergedrow\"><th scope=\"row\"><a href=\"/wiki/%EA%B5%AD%EA%B0%80_%EC%BD%94%EB%93%9C_%EC%B5%9C%EC%83%81%EC%9C%84_%EB%8F%84%EB%A9%94%EC%9D%B8\" title=\"국가 코드 최상위 도메인\">도메인</a></th><td><a href=\"/wiki/.es\" title=\".es\">.es</a></td></tr>,\n",
       " <tr class=\"mergedrow\"><th scope=\"row\"><a class=\"mw-redirect\" href=\"/wiki/%EA%B5%AD%EC%A0%9C%EC%A0%84%ED%99%94_%EB%82%98%EB%9D%BC_%EB%B2%88%ED%98%B8\" title=\"국제전화 나라 번호\">국제 전화</a></th><td>+34</td></tr>,\n",
       " <tr><td colspan=\"2\" style=\"text-align:center;text-align: left;\"><sup>1</sup> <a href=\"/wiki/%EC%B9%B4%ED%83%88%EB%A3%A8%EB%83%90\" title=\"카탈루냐\">카탈루냐</a>, <a href=\"/wiki/%EB%B0%9C%EB%A0%88%EC%95%84%EB%A0%88%EC%8A%A4_%EC%A0%9C%EB%8F%84\" title=\"발레아레스 제도\">발레아레스 제도</a>, <a class=\"mw-redirect\" href=\"/wiki/%EB%B0%9C%EB%A0%8C%EC%8B%9C%EC%95%84_%EC%A7%80%EB%B0%A9\" title=\"발렌시아 지방\">발렌시아 지방</a>에서는 <a href=\"/wiki/%EC%B9%B4%ED%83%88%EB%A3%A8%EB%83%90%EC%96%B4\" title=\"카탈루냐어\">카탈루냐어</a>, <a class=\"mw-redirect\" href=\"/wiki/%EA%B0%88%EB%A6%AC%EC%8B%9C%EC%95%84\" title=\"갈리시아\">갈리시아</a>에서는 <a href=\"/wiki/%EA%B0%88%EB%A6%AC%EC%8B%9C%EC%95%84%EC%96%B4\" title=\"갈리시아어\">갈리시아어</a>, <a class=\"mw-redirect\" href=\"/wiki/%EB%B0%94%EC%8A%A4%ED%81%AC_%EC%A7%80%EB%B0%A9\" title=\"바스크 지방\">바스크 지방</a> 및 일부 <a class=\"mw-redirect\" href=\"/wiki/%EB%82%98%EB%B0%94%EB%9D%BC_%EC%A7%80%EB%B0%A9\" title=\"나바라 지방\">나바라 지방</a>에서는 <a href=\"/wiki/%EB%B0%94%EC%8A%A4%ED%81%AC%EC%96%B4\" title=\"바스크어\">바스크어</a>, <a href=\"/wiki/%EC%95%84%EB%9E%80_%EA%B3%84%EA%B3%A1\" title=\"아란 계곡\">아란 계곡</a><sup class=\"reference\" id=\"cite_ref-Valle_de_Arán_1-0\"><a href=\"#cite_note-Valle_de_Arán-1\">[1]</a></sup>에서는 <a class=\"mw-redirect\" href=\"/wiki/%EC%95%84%EB%9E%80%EC%96%B4\" title=\"아란어\">아란어</a>가 공용어(co-oficial)로 인정되어 있다.<sup class=\"reference\" id=\"cite_ref-2\"><a href=\"#cite_note-2\">[2]</a></sup><sup class=\"reference\" id=\"cite_ref-3\"><a href=\"#cite_note-3\">[3]</a></sup><br/><sup>2</sup> <a href=\"/wiki/1999%EB%85%84\" title=\"1999년\">1999년</a>까지는 <a href=\"/wiki/%EC%8A%A4%ED%8E%98%EC%9D%B8_%ED%8E%98%EC%84%B8%ED%83%80\" title=\"스페인 페세타\">페세타</a>\n",
       " <div class=\"mw-references-wrap\"><ol class=\"references\">\n",
       " <li id=\"cite_note-Valle_de_Arán-1\"><span class=\"mw-cite-backlink\"><a href=\"#cite_ref-Valle_de_Arán_1-0\">↑</a></span> <span class=\"reference-text\"><b><span style=\"color: #555; font-size: smaller;\" title=\"언어: 스페인어\">(스페인어)</span></b> <a class=\"external text\" href=\"https://es.wikipedia.org/wiki/Valle_de_Arán\">Valle de Arán</a></span>\n",
       " </li>\n",
       " <li id=\"cite_note-2\"><span class=\"mw-cite-backlink\"><a href=\"#cite_ref-2\">↑</a></span> <span class=\"reference-text\"><b><span style=\"color: #555; font-size: smaller;\" title=\"언어: 스페인어\">(스페인어)</span></b> <a class=\"external text\" href=\"http://www.elmundo.es/elmundo/2010/09/22/barcelona/1285153737.html\" rel=\"nofollow\">Cataluña admite la oficialidad del aranés y se implica en su protección y difusión</a></span>\n",
       " </li>\n",
       " <li id=\"cite_note-3\"><span class=\"mw-cite-backlink\"><a href=\"#cite_ref-3\">↑</a></span> <span class=\"reference-text\"><a class=\"external text\" href=\"https://ko.wikipedia.org/wiki/스페인의_언어\">스페인의 언어</a></span>\n",
       " </li>\n",
       " </ol></div></td></tr>]"
      ]
     },
     "execution_count": 7,
     "metadata": {},
     "output_type": "execute_result"
    }
   ],
   "source": [
    "# tr\n",
    "\n",
    "trData = tbody.find_all('tr')\n",
    "trData"
   ]
  },
  {
   "cell_type": "code",
   "execution_count": 8,
   "id": "2eb7df23",
   "metadata": {},
   "outputs": [
    {
     "data": {
      "text/plain": [
       "[<td><a href=\"/wiki/%EB%A7%88%EB%93%9C%EB%A6%AC%EB%93%9C\" title=\"마드리드\">마드리드</a> <span style=\"white-space:nowrap;font-size:85%;\"><style data-mw-deduplicate=\"TemplateStyles:r27121890\">.mw-parser-output .geo-default,.mw-parser-output .geo-dms,.mw-parser-output .geo-dec{display:inline}.mw-parser-output .geo-nondefault,.mw-parser-output .geo-multi-punct{display:none}.mw-parser-output .longitude,.mw-parser-output .latitude{white-space:nowrap}</style><span class=\"plainlinks nourlexpansion\"><a class=\"external text\" href=\"//geohack.toolforge.org/geohack.php?language=ko&amp;pagename=%EC%8A%A4%ED%8E%98%EC%9D%B8&amp;params=40.383333_N_-3.716667_E_\"><span class=\"geo-default\"><span class=\"geo-dms\" title=\"이 위치에 대한 지도와 항공사진 및 기타 정보를 보여줍니다\"><span class=\"latitude\">북위 40° 23′ 00″</span> <span class=\"longitude\">서경 3° 43′ 00″</span></span></span><span class=\"geo-multi-punct\">﻿ / ﻿</span><span class=\"geo-nondefault\"><span class=\"geo-dec\" title=\"이 위치에 대한 지도와 항공사진 및 기타 정보를 보여줍니다\">북위 40.383333°  서경 3.716667° </span><span style=\"display:none\">﻿ / <span class=\"geo\">40.383333; -3.716667</span></span></span></a></span></span></td>]"
      ]
     },
     "execution_count": 8,
     "metadata": {},
     "output_type": "execute_result"
    }
   ],
   "source": [
    "# td, 필요없는 데이터 버리고 함수 찾기? 수도(8)부터 시작\n",
    "\n",
    "tdData = trData[8].find_all('td')\n",
    "tdData"
   ]
  },
  {
   "cell_type": "code",
   "execution_count": 9,
   "id": "68ca7dcf",
   "metadata": {},
   "outputs": [
    {
     "data": {
      "text/plain": [
       "'마드리드 북위 40° 23′ 00″ 서경 3° 43′ 00″\\ufeff / \\ufeff북위 40.383333°  서경 3.716667° \\ufeff / 40.383333; -3.716667'"
      ]
     },
     "execution_count": 9,
     "metadata": {},
     "output_type": "execute_result"
    }
   ],
   "source": [
    "# 위에서 정한 숫자부터 시작하는거 확인, '수도' 부터 시작해서 리셋하고 0부터 시작?\n",
    "tdData[0].text"
   ]
  },
  {
   "cell_type": "code",
   "execution_count": 14,
   "id": "17c1b99a",
   "metadata": {},
   "outputs": [
    {
     "ename": "IndentationError",
     "evalue": "unexpected indent (2552955962.py, line 15)",
     "output_type": "error",
     "traceback": [
      "\u001b[1;36m  Input \u001b[1;32mIn [14]\u001b[1;36m\u001b[0m\n\u001b[1;33m    for j in range(0,tdDataLen):\u001b[0m\n\u001b[1;37m    ^\u001b[0m\n\u001b[1;31mIndentationError\u001b[0m\u001b[1;31m:\u001b[0m unexpected indent\n"
     ]
    }
   ],
   "source": [
    "# 3.2 반복문으로 담기 [th, tr>td]\n",
    "\n",
    "# 구글링 \n",
    "\n",
    "rowList = []\n",
    "columnList = []\n",
    "\n",
    "trDataLen = len(trData)\n",
    "\n",
    "for i in range(0,trDataLen):\n",
    "    tdData = trData[i].find_all('td')\n",
    "\n",
    "tdDataLen = len(tdData)\n",
    "    \n",
    "    for j in range(0,tdDataLen):\n",
    "        \n",
    "        element = tdData[j].text\n",
    "        columnList.append(element)\n",
    "    \n",
    "    rowList.append(columnList)\n",
    "    columnList = []\n",
    "    \n",
    "rowList\n",
    "\n",
    "\n",
    "# # 수정중\n",
    "\n",
    "\n",
    "# theadList = []\n",
    "# columnList = []\n",
    "\n",
    "\n",
    "# trDataLen = len(trData)\n",
    "# tdDataLen = len(tdData)\n",
    "\n",
    "# for i in range(3,theadLen):\n",
    "#     thead = target.find_all('th')[i].text\n",
    "#     theadLen = len(thead)\n",
    "\n",
    "\n",
    "#     for j in range(0,tdDataLen):\n",
    "        \n",
    "#         element = tdData[j].text\n",
    "#         columnList.append(element)\n",
    "    \n",
    "#     theadList.append(columnList)\n",
    "#     columnList = []\n",
    "\n",
    "# theadList"
   ]
  },
  {
   "cell_type": "code",
   "execution_count": 79,
   "id": "b3240f07",
   "metadata": {},
   "outputs": [
    {
     "ename": "ValueError",
     "evalue": "0 columns passed, passed data had 5 columns",
     "output_type": "error",
     "traceback": [
      "\u001b[1;31m---------------------------------------------------------------------------\u001b[0m",
      "\u001b[1;31mAssertionError\u001b[0m                            Traceback (most recent call last)",
      "File \u001b[1;32m~\\anaconda3\\envs\\study\\lib\\site-packages\\pandas\\core\\internals\\construction.py:982\u001b[0m, in \u001b[0;36m_finalize_columns_and_data\u001b[1;34m(content, columns, dtype)\u001b[0m\n\u001b[0;32m    981\u001b[0m \u001b[38;5;28;01mtry\u001b[39;00m:\n\u001b[1;32m--> 982\u001b[0m     columns \u001b[38;5;241m=\u001b[39m \u001b[43m_validate_or_indexify_columns\u001b[49m\u001b[43m(\u001b[49m\u001b[43mcontents\u001b[49m\u001b[43m,\u001b[49m\u001b[43m \u001b[49m\u001b[43mcolumns\u001b[49m\u001b[43m)\u001b[49m\n\u001b[0;32m    983\u001b[0m \u001b[38;5;28;01mexcept\u001b[39;00m \u001b[38;5;167;01mAssertionError\u001b[39;00m \u001b[38;5;28;01mas\u001b[39;00m err:\n\u001b[0;32m    984\u001b[0m     \u001b[38;5;66;03m# GH#26429 do not raise user-facing AssertionError\u001b[39;00m\n",
      "File \u001b[1;32m~\\anaconda3\\envs\\study\\lib\\site-packages\\pandas\\core\\internals\\construction.py:1030\u001b[0m, in \u001b[0;36m_validate_or_indexify_columns\u001b[1;34m(content, columns)\u001b[0m\n\u001b[0;32m   1028\u001b[0m \u001b[38;5;28;01mif\u001b[39;00m \u001b[38;5;129;01mnot\u001b[39;00m is_mi_list \u001b[38;5;129;01mand\u001b[39;00m \u001b[38;5;28mlen\u001b[39m(columns) \u001b[38;5;241m!=\u001b[39m \u001b[38;5;28mlen\u001b[39m(content):  \u001b[38;5;66;03m# pragma: no cover\u001b[39;00m\n\u001b[0;32m   1029\u001b[0m     \u001b[38;5;66;03m# caller's responsibility to check for this...\u001b[39;00m\n\u001b[1;32m-> 1030\u001b[0m     \u001b[38;5;28;01mraise\u001b[39;00m \u001b[38;5;167;01mAssertionError\u001b[39;00m(\n\u001b[0;32m   1031\u001b[0m         \u001b[38;5;124mf\u001b[39m\u001b[38;5;124m\"\u001b[39m\u001b[38;5;132;01m{\u001b[39;00m\u001b[38;5;28mlen\u001b[39m(columns)\u001b[38;5;132;01m}\u001b[39;00m\u001b[38;5;124m columns passed, passed data had \u001b[39m\u001b[38;5;124m\"\u001b[39m\n\u001b[0;32m   1032\u001b[0m         \u001b[38;5;124mf\u001b[39m\u001b[38;5;124m\"\u001b[39m\u001b[38;5;132;01m{\u001b[39;00m\u001b[38;5;28mlen\u001b[39m(content)\u001b[38;5;132;01m}\u001b[39;00m\u001b[38;5;124m columns\u001b[39m\u001b[38;5;124m\"\u001b[39m\n\u001b[0;32m   1033\u001b[0m     )\n\u001b[0;32m   1034\u001b[0m \u001b[38;5;28;01melif\u001b[39;00m is_mi_list:\n\u001b[0;32m   1035\u001b[0m \n\u001b[0;32m   1036\u001b[0m     \u001b[38;5;66;03m# check if nested list column, length of each sub-list should be equal\u001b[39;00m\n",
      "\u001b[1;31mAssertionError\u001b[0m: 0 columns passed, passed data had 5 columns",
      "\nThe above exception was the direct cause of the following exception:\n",
      "\u001b[1;31mValueError\u001b[0m                                Traceback (most recent call last)",
      "Input \u001b[1;32mIn [79]\u001b[0m, in \u001b[0;36m<cell line: 3>\u001b[1;34m()\u001b[0m\n\u001b[0;32m      1\u001b[0m \u001b[38;5;66;03m# 4. Pandas로 DataFrame 만들기\u001b[39;00m\n\u001b[1;32m----> 3\u001b[0m result \u001b[38;5;241m=\u001b[39m \u001b[43mpd\u001b[49m\u001b[38;5;241;43m.\u001b[39;49m\u001b[43mDataFrame\u001b[49m\u001b[43m(\u001b[49m\u001b[43mrowList\u001b[49m\u001b[43m,\u001b[49m\u001b[43m \u001b[49m\u001b[43mcolumns\u001b[49m\u001b[38;5;241;43m=\u001b[39;49m\u001b[43mtheadList\u001b[49m\u001b[43m)\u001b[49m\n\u001b[0;32m      4\u001b[0m result\n",
      "File \u001b[1;32m~\\anaconda3\\envs\\study\\lib\\site-packages\\pandas\\core\\frame.py:721\u001b[0m, in \u001b[0;36mDataFrame.__init__\u001b[1;34m(self, data, index, columns, dtype, copy)\u001b[0m\n\u001b[0;32m    716\u001b[0m     \u001b[38;5;28;01mif\u001b[39;00m columns \u001b[38;5;129;01mis\u001b[39;00m \u001b[38;5;129;01mnot\u001b[39;00m \u001b[38;5;28;01mNone\u001b[39;00m:\n\u001b[0;32m    717\u001b[0m         \u001b[38;5;66;03m# error: Argument 1 to \"ensure_index\" has incompatible type\u001b[39;00m\n\u001b[0;32m    718\u001b[0m         \u001b[38;5;66;03m# \"Collection[Any]\"; expected \"Union[Union[Union[ExtensionArray,\u001b[39;00m\n\u001b[0;32m    719\u001b[0m         \u001b[38;5;66;03m# ndarray], Index, Series], Sequence[Any]]\"\u001b[39;00m\n\u001b[0;32m    720\u001b[0m         columns \u001b[38;5;241m=\u001b[39m ensure_index(columns)  \u001b[38;5;66;03m# type: ignore[arg-type]\u001b[39;00m\n\u001b[1;32m--> 721\u001b[0m     arrays, columns, index \u001b[38;5;241m=\u001b[39m \u001b[43mnested_data_to_arrays\u001b[49m\u001b[43m(\u001b[49m\n\u001b[0;32m    722\u001b[0m \u001b[43m        \u001b[49m\u001b[38;5;66;43;03m# error: Argument 3 to \"nested_data_to_arrays\" has incompatible\u001b[39;49;00m\n\u001b[0;32m    723\u001b[0m \u001b[43m        \u001b[49m\u001b[38;5;66;43;03m# type \"Optional[Collection[Any]]\"; expected \"Optional[Index]\"\u001b[39;49;00m\n\u001b[0;32m    724\u001b[0m \u001b[43m        \u001b[49m\u001b[43mdata\u001b[49m\u001b[43m,\u001b[49m\n\u001b[0;32m    725\u001b[0m \u001b[43m        \u001b[49m\u001b[43mcolumns\u001b[49m\u001b[43m,\u001b[49m\n\u001b[0;32m    726\u001b[0m \u001b[43m        \u001b[49m\u001b[43mindex\u001b[49m\u001b[43m,\u001b[49m\u001b[43m  \u001b[49m\u001b[38;5;66;43;03m# type: ignore[arg-type]\u001b[39;49;00m\n\u001b[0;32m    727\u001b[0m \u001b[43m        \u001b[49m\u001b[43mdtype\u001b[49m\u001b[43m,\u001b[49m\n\u001b[0;32m    728\u001b[0m \u001b[43m    \u001b[49m\u001b[43m)\u001b[49m\n\u001b[0;32m    729\u001b[0m     mgr \u001b[38;5;241m=\u001b[39m arrays_to_mgr(\n\u001b[0;32m    730\u001b[0m         arrays,\n\u001b[0;32m    731\u001b[0m         columns,\n\u001b[1;32m   (...)\u001b[0m\n\u001b[0;32m    734\u001b[0m         typ\u001b[38;5;241m=\u001b[39mmanager,\n\u001b[0;32m    735\u001b[0m     )\n\u001b[0;32m    736\u001b[0m \u001b[38;5;28;01melse\u001b[39;00m:\n",
      "File \u001b[1;32m~\\anaconda3\\envs\\study\\lib\\site-packages\\pandas\\core\\internals\\construction.py:519\u001b[0m, in \u001b[0;36mnested_data_to_arrays\u001b[1;34m(data, columns, index, dtype)\u001b[0m\n\u001b[0;32m    516\u001b[0m \u001b[38;5;28;01mif\u001b[39;00m is_named_tuple(data[\u001b[38;5;241m0\u001b[39m]) \u001b[38;5;129;01mand\u001b[39;00m columns \u001b[38;5;129;01mis\u001b[39;00m \u001b[38;5;28;01mNone\u001b[39;00m:\n\u001b[0;32m    517\u001b[0m     columns \u001b[38;5;241m=\u001b[39m ensure_index(data[\u001b[38;5;241m0\u001b[39m]\u001b[38;5;241m.\u001b[39m_fields)\n\u001b[1;32m--> 519\u001b[0m arrays, columns \u001b[38;5;241m=\u001b[39m \u001b[43mto_arrays\u001b[49m\u001b[43m(\u001b[49m\u001b[43mdata\u001b[49m\u001b[43m,\u001b[49m\u001b[43m \u001b[49m\u001b[43mcolumns\u001b[49m\u001b[43m,\u001b[49m\u001b[43m \u001b[49m\u001b[43mdtype\u001b[49m\u001b[38;5;241;43m=\u001b[39;49m\u001b[43mdtype\u001b[49m\u001b[43m)\u001b[49m\n\u001b[0;32m    520\u001b[0m columns \u001b[38;5;241m=\u001b[39m ensure_index(columns)\n\u001b[0;32m    522\u001b[0m \u001b[38;5;28;01mif\u001b[39;00m index \u001b[38;5;129;01mis\u001b[39;00m \u001b[38;5;28;01mNone\u001b[39;00m:\n",
      "File \u001b[1;32m~\\anaconda3\\envs\\study\\lib\\site-packages\\pandas\\core\\internals\\construction.py:883\u001b[0m, in \u001b[0;36mto_arrays\u001b[1;34m(data, columns, dtype)\u001b[0m\n\u001b[0;32m    880\u001b[0m     data \u001b[38;5;241m=\u001b[39m [\u001b[38;5;28mtuple\u001b[39m(x) \u001b[38;5;28;01mfor\u001b[39;00m x \u001b[38;5;129;01min\u001b[39;00m data]\n\u001b[0;32m    881\u001b[0m     arr \u001b[38;5;241m=\u001b[39m _list_to_arrays(data)\n\u001b[1;32m--> 883\u001b[0m content, columns \u001b[38;5;241m=\u001b[39m \u001b[43m_finalize_columns_and_data\u001b[49m\u001b[43m(\u001b[49m\u001b[43marr\u001b[49m\u001b[43m,\u001b[49m\u001b[43m \u001b[49m\u001b[43mcolumns\u001b[49m\u001b[43m,\u001b[49m\u001b[43m \u001b[49m\u001b[43mdtype\u001b[49m\u001b[43m)\u001b[49m\n\u001b[0;32m    884\u001b[0m \u001b[38;5;28;01mreturn\u001b[39;00m content, columns\n",
      "File \u001b[1;32m~\\anaconda3\\envs\\study\\lib\\site-packages\\pandas\\core\\internals\\construction.py:985\u001b[0m, in \u001b[0;36m_finalize_columns_and_data\u001b[1;34m(content, columns, dtype)\u001b[0m\n\u001b[0;32m    982\u001b[0m     columns \u001b[38;5;241m=\u001b[39m _validate_or_indexify_columns(contents, columns)\n\u001b[0;32m    983\u001b[0m \u001b[38;5;28;01mexcept\u001b[39;00m \u001b[38;5;167;01mAssertionError\u001b[39;00m \u001b[38;5;28;01mas\u001b[39;00m err:\n\u001b[0;32m    984\u001b[0m     \u001b[38;5;66;03m# GH#26429 do not raise user-facing AssertionError\u001b[39;00m\n\u001b[1;32m--> 985\u001b[0m     \u001b[38;5;28;01mraise\u001b[39;00m \u001b[38;5;167;01mValueError\u001b[39;00m(err) \u001b[38;5;28;01mfrom\u001b[39;00m \u001b[38;5;21;01merr\u001b[39;00m\n\u001b[0;32m    987\u001b[0m \u001b[38;5;28;01mif\u001b[39;00m \u001b[38;5;28mlen\u001b[39m(contents) \u001b[38;5;129;01mand\u001b[39;00m contents[\u001b[38;5;241m0\u001b[39m]\u001b[38;5;241m.\u001b[39mdtype \u001b[38;5;241m==\u001b[39m np\u001b[38;5;241m.\u001b[39mobject_:\n\u001b[0;32m    988\u001b[0m     contents \u001b[38;5;241m=\u001b[39m _convert_object_array(contents, dtype\u001b[38;5;241m=\u001b[39mdtype)\n",
      "\u001b[1;31mValueError\u001b[0m: 0 columns passed, passed data had 5 columns"
     ]
    }
   ],
   "source": [
    "# 4. Pandas로 DataFrame 만들기\n",
    "\n",
    "result = pd.DataFrame(rowList, columns=theadList)\n",
    "result"
   ]
  }
 ],
 "metadata": {
  "kernelspec": {
   "display_name": "Python 3 (ipykernel)",
   "language": "python",
   "name": "python3"
  },
  "language_info": {
   "codemirror_mode": {
    "name": "ipython",
    "version": 3
   },
   "file_extension": ".py",
   "mimetype": "text/x-python",
   "name": "python",
   "nbconvert_exporter": "python",
   "pygments_lexer": "ipython3",
   "version": "3.10.4"
  }
 },
 "nbformat": 4,
 "nbformat_minor": 5
}
