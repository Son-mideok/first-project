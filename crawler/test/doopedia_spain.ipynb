{
 "cells": [
  {
   "cell_type": "code",
   "execution_count": 1,
   "id": "d2a74f29",
   "metadata": {
    "scrolled": true
   },
   "outputs": [],
   "source": [
    "import requests\n",
    "from bs4 import BeautifulSoup\n",
    "import pandas as pd\n",
    "\n",
    "\n",
    "URL = 'https://terms.naver.com/entry.naver?docId=1125333&cid=40942&categoryId=34081'\n",
    "response = requests.get(URL)\n",
    "soup =BeautifulSoup(response.text, 'html.parser')"
   ]
  },
  {
   "cell_type": "code",
   "execution_count": 7,
   "id": "b5ae1889",
   "metadata": {},
   "outputs": [
    {
     "name": "stdout",
     "output_type": "stream",
     "text": [
      "{'원어명': 'España', '위치': '유럽 남서부, 북대서양과 지중해 연안', '경위도': \"서경 4°00', 북위 40°00'\", '면적(㎢)': '505370', '해안선(km)': '4964', '시간대': 'CET (UTC+1) Summer: CEST (UTC+2)', '수도': '마드리드(Madrid)', '종족구성': '지중해인 및 북유럽인', '공용어': '스페인어', '종교': '로마가톨릭교(94%), 기타(6%)', '건국일': '15세기', '국가원수/국무총리': '펠리페 6세(Felipe Ⅵ) 국왕(2014.06 즉위)', '국제전화': '+34', '정체': '입헌군주제', '통화': '유로화(Euro)', '인터넷도메인': '.es', '홈페이지': 'http://www.lamoncloa.gob.es', 'ISO 3166-1': '724', 'ISO 3166-1 Alpha-3': 'ESP', '인구(명)': '47,042,984(2012년)', '평균수명(세)': '79.92(2008년)', '1인당 명목 GDP($)': '28,976(2012년)', '수출규모(억$)': '3,096(2011년)', '수입규모(억$)': '3,649(2011년)', '인구밀도(명/㎢)': '94(2012년)', '1인당 구매력평가기준 GDP(PPP)($)': '30,412(2012년)', '소리듣기': '소리듣기스페인의 국가유럽의 남서쪽 끝에 있는 나라. 수도는 마드리드이며 공용어로 에스파냐어를 사용하고 있다.'}\n"
     ]
    }
   ],
   "source": [
    "spain_tbody = soup.select_one('tbody')\n",
    "trs = spain_tbody.select('tr')\n",
    "\n",
    "spain_result = {}\n",
    "\n",
    "for tr in trs:\n",
    "\n",
    "    spain_title = tr.select('th > span')[0].text.strip()\n",
    "    spain_data = tr.select('td')[0].text.strip()\n",
    "    \n",
    "    spain_result.setdefault(spain_title, spain_data)\n",
    "\n",
    "print(spain_result)"
   ]
  }
 ],
 "metadata": {
  "kernelspec": {
   "display_name": "Python 3.10.4 ('study')",
   "language": "python",
   "name": "python3"
  },
  "language_info": {
   "codemirror_mode": {
    "name": "ipython",
    "version": 3
   },
   "file_extension": ".py",
   "mimetype": "text/x-python",
   "name": "python",
   "nbconvert_exporter": "python",
   "pygments_lexer": "ipython3",
   "version": "3.10.4"
  },
  "vscode": {
   "interpreter": {
    "hash": "cdb3408ddd590d3368dab592099dfbb7bb79f8272c754c134a9f1c06d64a117d"
   }
  }
 },
 "nbformat": 4,
 "nbformat_minor": 5
}
