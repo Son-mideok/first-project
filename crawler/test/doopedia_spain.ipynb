{
 "cells": [
  {
   "cell_type": "code",
   "execution_count": 6,
   "id": "d2a74f29",
   "metadata": {
    "scrolled": true
   },
   "outputs": [],
   "source": [
    "import requests\n",
    "from bs4 import BeautifulSoup\n",
    "import pandas as pd\n",
    "\n",
    "\n",
    "URL = 'https://terms.naver.com/entry.naver?docId=1125333&cid=40942&categoryId=34081'\n",
    "response = requests.get(URL)\n",
    "soup =BeautifulSoup(response.text, 'html.parser')"
   ]
  },
  {
   "cell_type": "code",
   "execution_count": 14,
   "id": "b5ae1889",
   "metadata": {},
   "outputs": [],
   "source": [
    "spain_tbody = soup.select_one('tbody')\n",
    "trs = spain_tbody.select('tr')\n",
    "\n",
    "spain_result = {}\n",
    "\n",
    "def naver_crawling():\n",
    "    for tr in trs:\n",
    "\n",
    "        spain_title = tr.select('th > span')[0].text.strip()\n",
    "        spain_data = tr.select('td')[0].text.strip()\n",
    "        \n",
    "        spain_result.setdefault(spain_title, spain_data)\n",
    "        \n",
    "    return(spain_result)\n",
    "        # final_result='원어명: '+ spain_result['원어명'] + '위치: '+ spain_result['위치']+ '시간대: '+spain_result['시간대'] +'면적(㎢): '+ spain_result['면적(㎢)']+'시간대: '+spain_result['시간대']+'수도: '+spain_result['수도']+'종족구성: '+spain_result['종족구성']+'국제전화: '+spain_result['국제전화']\n",
    "        # return(final_result)"
   ]
  },
  {
   "cell_type": "code",
   "execution_count": 15,
   "id": "d4c3e7d0",
   "metadata": {},
   "outputs": [
    {
     "data": {
      "text/plain": [
       "{'원어명': 'España',\n",
       " '위치': '유럽 남서부, 북대서양과 지중해 연안',\n",
       " '경위도': \"서경 4°00', 북위 40°00'\",\n",
       " '면적(㎢)': '505370',\n",
       " '해안선(km)': '4964',\n",
       " '시간대': 'CET (UTC+1) Summer: CEST (UTC+2)',\n",
       " '수도': '마드리드(Madrid)',\n",
       " '종족구성': '지중해인 및 북유럽인',\n",
       " '공용어': '스페인어',\n",
       " '종교': '로마가톨릭교(94%), 기타(6%)',\n",
       " '건국일': '15세기',\n",
       " '국가원수/국무총리': '펠리페 6세(Felipe Ⅵ) 국왕(2014.06 즉위)',\n",
       " '국제전화': '+34',\n",
       " '정체': '입헌군주제',\n",
       " '통화': '유로화(Euro)',\n",
       " '인터넷도메인': '.es',\n",
       " '홈페이지': 'http://www.lamoncloa.gob.es',\n",
       " 'ISO 3166-1': '724',\n",
       " 'ISO 3166-1 Alpha-3': 'ESP',\n",
       " '인구(명)': '47,042,984(2012년)',\n",
       " '평균수명(세)': '79.92(2008년)',\n",
       " '1인당 명목 GDP($)': '28,976(2012년)',\n",
       " '수출규모(억$)': '3,096(2011년)',\n",
       " '수입규모(억$)': '3,649(2011년)',\n",
       " '인구밀도(명/㎢)': '94(2012년)',\n",
       " '1인당 구매력평가기준 GDP(PPP)($)': '30,412(2012년)',\n",
       " '소리듣기': '소리듣기스페인의 국가유럽의 남서쪽 끝에 있는 나라. 수도는 마드리드이며 공용어로 에스파냐어를 사용하고 있다.'}"
      ]
     },
     "execution_count": 15,
     "metadata": {},
     "output_type": "execute_result"
    }
   ],
   "source": [
    "naver_crawling()"
   ]
  },
  {
   "cell_type": "code",
   "execution_count": null,
   "id": "54b50272",
   "metadata": {},
   "outputs": [],
   "source": []
  }
 ],
 "metadata": {
  "kernelspec": {
   "display_name": "Python 3.10.4 ('study')",
   "language": "python",
   "name": "python3"
  },
  "language_info": {
   "codemirror_mode": {
    "name": "ipython",
    "version": 3
   },
   "file_extension": ".py",
   "mimetype": "text/x-python",
   "name": "python",
   "nbconvert_exporter": "python",
   "pygments_lexer": "ipython3",
   "version": "3.10.4"
  },
  "vscode": {
   "interpreter": {
    "hash": "cdb3408ddd590d3368dab592099dfbb7bb79f8272c754c134a9f1c06d64a117d"
   }
  }
 },
 "nbformat": 4,
 "nbformat_minor": 5
}
