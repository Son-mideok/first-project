{
 "cells": [
  {
   "cell_type": "code",
   "execution_count": 123,
   "metadata": {},
   "outputs": [],
   "source": [
    "from selenium import webdriver\n",
    "from selenium.webdriver.support.ui import Select\n",
    "from selenium.webdriver.common.by import By"
   ]
  },
  {
   "cell_type": "code",
   "execution_count": 124,
   "metadata": {},
   "outputs": [],
   "source": [
    "# 강의자료 Webdriver Manager 설치, 크롬드라이버 필요없음\n",
    "from selenium import webdriver\n",
    "from selenium.webdriver.chrome.service import Service\n",
    "from webdriver_manager.chrome import ChromeDriverManager\n",
    "driver = webdriver.Chrome(\n",
    "service=Service(ChromeDriverManager().install()))"
   ]
  },
  {
   "cell_type": "code",
   "execution_count": 125,
   "metadata": {},
   "outputs": [],
   "source": [
    "from re import search\n",
    "\n",
    "\n",
    "url = 'https://worldtrip.ebs.co.kr/worldtrip/main'\n",
    "driver.get(url)\n",
    "\n",
    "driver.implicitly_wait(3)\n",
    "dropdown = Select(driver.find_element(By.ID,'catgry1'))  #정렬기준 드롭다운\n",
    "dropdown.select_by_visible_text('세계테마기행')\n",
    "\n",
    "driver.implicitly_wait(3)\n",
    "dropdown2 = Select(driver.find_element(By.ID,'catgry2'))\n",
    "dropdown2.select_by_visible_text('유럽')\n",
    "\n",
    "driver.implicitly_wait(3)\n",
    "dropdown3 = Select(driver.find_element(By.ID,'catgry3'))\n",
    "dropdown3.select_by_visible_text('스페인')\n",
    "\n",
    "\n",
    "driver.implicitly_wait(3)\n",
    "# search = driver.find_element(By.CLASS_NAME, 'submit')\n",
    "# driver.click()\n",
    "try:\n",
    "    driver.find_element(By.CSS_SELECTOR, 'a[onclick^=\"catgrySearch( this )\"]').click() \n",
    "except:\n",
    "    driver.find_element(By.CSS_SELECTOR, 'a[onclick^=\"catgrySearch(this)\"]').click()\n",
    "\n",
    "\n",
    "# try:\n",
    "#     실행할 코드\n",
    "# except:\n",
    "#     예외가 발생했을 때 처리하는 코드\n",
    "\n",
    "\n",
    "\n"
   ]
  },
  {
   "cell_type": "code",
   "execution_count": 126,
   "metadata": {},
   "outputs": [],
   "source": [
    "element = driver.find_element(By.XPATH, '//*[@id=\"vodList\"]/li[1]/a/span/span/span[1]')\n",
    "\n",
    "# print(elem.text)\n",
    "\n",
    "# browser.quit()\n",
    "\n",
    "# element.text"
   ]
  },
  {
   "cell_type": "code",
   "execution_count": 127,
   "metadata": {},
   "outputs": [
    {
     "data": {
      "text/plain": [
       "'열정이 그리워서, 스페인-전설을 거닐다'"
      ]
     },
     "execution_count": 127,
     "metadata": {},
     "output_type": "execute_result"
    }
   ],
   "source": [
    "element.text"
   ]
  },
  {
   "cell_type": "code",
   "execution_count": 128,
   "metadata": {},
   "outputs": [],
   "source": [
    "#vodList > li:nth-child(1) > a   동영상 주소\n",
    "\n",
    "elements = driver.find_elements(By.CSS_SELECTOR, '#vodList > li > a')"
   ]
  },
  {
   "cell_type": "code",
   "execution_count": 129,
   "metadata": {},
   "outputs": [],
   "source": [
    "elements=elements[:10]"
   ]
  },
  {
   "cell_type": "code",
   "execution_count": 130,
   "metadata": {},
   "outputs": [
    {
     "data": {
      "text/plain": [
       "[<selenium.webdriver.remote.webelement.WebElement (session=\"f9cffd336829474194bd932c2a6d77ed\", element=\"3c094736-3024-413a-bde9-f89cdd1bf78e\")>,\n",
       " <selenium.webdriver.remote.webelement.WebElement (session=\"f9cffd336829474194bd932c2a6d77ed\", element=\"63f490d8-a09e-4f26-a4b3-85705794efe3\")>,\n",
       " <selenium.webdriver.remote.webelement.WebElement (session=\"f9cffd336829474194bd932c2a6d77ed\", element=\"282cf65f-b2f2-482e-833c-35846ee4d7f7\")>,\n",
       " <selenium.webdriver.remote.webelement.WebElement (session=\"f9cffd336829474194bd932c2a6d77ed\", element=\"ec2f763c-317c-433e-bf2a-fb6cef229dae\")>,\n",
       " <selenium.webdriver.remote.webelement.WebElement (session=\"f9cffd336829474194bd932c2a6d77ed\", element=\"413dd4f0-df8f-4bf0-8474-11b6a2d29a0a\")>,\n",
       " <selenium.webdriver.remote.webelement.WebElement (session=\"f9cffd336829474194bd932c2a6d77ed\", element=\"d051ec5a-ae06-451f-9108-80fca72acba4\")>,\n",
       " <selenium.webdriver.remote.webelement.WebElement (session=\"f9cffd336829474194bd932c2a6d77ed\", element=\"8d4c3694-dfcc-4618-b082-ac045b2b49f6\")>,\n",
       " <selenium.webdriver.remote.webelement.WebElement (session=\"f9cffd336829474194bd932c2a6d77ed\", element=\"c8949cf7-7507-4010-b616-5728506d89b6\")>,\n",
       " <selenium.webdriver.remote.webelement.WebElement (session=\"f9cffd336829474194bd932c2a6d77ed\", element=\"1bd4ba5d-238a-484c-875f-ebf6af97f742\")>]"
      ]
     },
     "execution_count": 130,
     "metadata": {},
     "output_type": "execute_result"
    }
   ],
   "source": [
    "elements"
   ]
  },
  {
   "cell_type": "code",
   "execution_count": 131,
   "metadata": {},
   "outputs": [
    {
     "name": "stdout",
     "output_type": "stream",
     "text": [
      "[{'동영상 제목': '열정이 그리워서, 스페인-전설을 거닐다', '링크': 'https://worldtrip.ebs.co.kr/worldtrip/replayView?siteCd=KH&courseId=BP0PAPD0000000013&stepId=01BP0PAPD0000000013&lectId=60244500'}, {'동영상 제목': '열정이 그리워서, 스페인-길 위의 철학자들', '링크': 'https://worldtrip.ebs.co.kr/worldtrip/replayView?siteCd=KH&courseId=BP0PAPD0000000013&stepId=01BP0PAPD0000000013&lectId=60243823'}, {'동영상 제목': '열정이 그리워서, 스페인-1일 5식, 스페인은 맛있다!', '링크': 'https://worldtrip.ebs.co.kr/worldtrip/replayView?siteCd=KH&courseId=BP0PAPD0000000013&stepId=01BP0PAPD0000000013&lectId=60243430'}, {'동영상 제목': '열정이 그리워서, 스페인-돈키호테를 닮은 사람들', '링크': 'https://worldtrip.ebs.co.kr/worldtrip/replayView?siteCd=KH&courseId=BP0PAPD0000000013&stepId=01BP0PAPD0000000013&lectId=60243156'}, {'동영상 제목': '맛슐랭 갈랭?-우리가 사랑하는 맛, 스페인', '링크': 'https://worldtrip.ebs.co.kr/worldtrip/replayView?siteCd=KH&courseId=BP0PAPD0000000013&stepId=01BP0PAPD0000000013&lectId=60216123'}, {'동영상 제목': '걷고 먹고 행복하라!-산티아고 순례길', '링크': 'https://worldtrip.ebs.co.kr/worldtrip/replayView?siteCd=KH&courseId=BP0PAPD0000000013&stepId=01BP0PAPD0000000013&lectId=60212335'}, {'동영상 제목': '푸드 트립 스페인-먹고 걷고 행복하라! 미식 순례', '링크': 'https://worldtrip.ebs.co.kr/worldtrip/replayView?siteCd=KH&courseId=BP0PAPD0000000013&stepId=01BP0PAPD0000000013&lectId=20172405'}, {'동영상 제목': '푸드 트립 스페인-어울려야 제 맛!', '링크': 'https://worldtrip.ebs.co.kr/worldtrip/replayView?siteCd=KH&courseId=BP0PAPD0000000013&stepId=01BP0PAPD0000000013&lectId=20171988'}, {'동영상 제목': '푸드 트립 스페인-올라! 맛있는 인생', '링크': 'https://worldtrip.ebs.co.kr/worldtrip/replayView?siteCd=KH&courseId=BP0PAPD0000000013&stepId=01BP0PAPD0000000013&lectId=20171249'}]\n"
     ]
    }
   ],
   "source": [
    "vod_list = []\n",
    "\n",
    "for element in elements:\n",
    "    title = element.text\n",
    "    link = element.get_attribute('href')\n",
    "\n",
    "#print(title,link)\n",
    "\n",
    "    temp = {}\n",
    "    temp['동영상 제목'] = title\n",
    "    temp['링크'] = link\n",
    "\n",
    "    vod_list.append(temp)\n",
    "\n",
    "print(vod_list)\n",
    "\n"
   ]
  },
  {
   "cell_type": "code",
   "execution_count": null,
   "metadata": {},
   "outputs": [],
   "source": []
  }
 ],
 "metadata": {
  "kernelspec": {
   "display_name": "Python 3.10.4 ('study')",
   "language": "python",
   "name": "python3"
  },
  "language_info": {
   "codemirror_mode": {
    "name": "ipython",
    "version": 3
   },
   "file_extension": ".py",
   "mimetype": "text/x-python",
   "name": "python",
   "nbconvert_exporter": "python",
   "pygments_lexer": "ipython3",
   "version": "3.10.4"
  },
  "orig_nbformat": 4,
  "vscode": {
   "interpreter": {
    "hash": "cdb3408ddd590d3368dab592099dfbb7bb79f8272c754c134a9f1c06d64a117d"
   }
  }
 },
 "nbformat": 4,
 "nbformat_minor": 2
}
