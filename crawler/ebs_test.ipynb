{
 "cells": [
  {
   "cell_type": "code",
   "execution_count": 37,
   "metadata": {},
   "outputs": [],
   "source": [
    "from selenium import webdriver\n",
    "from selenium.webdriver.support.ui import Select\n",
    "from selenium.webdriver.common.by import By"
   ]
  },
  {
   "cell_type": "code",
   "execution_count": 30,
   "metadata": {},
   "outputs": [],
   "source": [
    "# 강의자료 Webdriver Manager 설치\n",
    "from selenium import webdriver\n",
    "from selenium.webdriver.chrome.service import Service\n",
    "from webdriver_manager.chrome import ChromeDriverManager\n",
    "driver = webdriver.Chrome(\n",
    "service=Service(ChromeDriverManager().install()) )"
   ]
  },
  {
   "cell_type": "code",
   "execution_count": 38,
   "metadata": {},
   "outputs": [
    {
     "ename": "UnexpectedTagNameException",
     "evalue": "Message: Select only works on <select> elements, not on <div>\n",
     "output_type": "error",
     "traceback": [
      "\u001b[1;31m---------------------------------------------------------------------------\u001b[0m",
      "\u001b[1;31mUnexpectedTagNameException\u001b[0m                Traceback (most recent call last)",
      "\u001b[1;32mc:\\Users\\virtue\\Desktop\\virtue_package\\crawler\\ebs_test.ipynb 셀 3\u001b[0m in \u001b[0;36m<cell line: 4>\u001b[1;34m()\u001b[0m\n\u001b[0;32m      <a href='vscode-notebook-cell:/c%3A/Users/virtue/Desktop/virtue_package/crawler/ebs_test.ipynb#W5sZmlsZQ%3D%3D?line=1'>2</a>\u001b[0m driver\u001b[39m.\u001b[39mget(url)\n\u001b[0;32m      <a href='vscode-notebook-cell:/c%3A/Users/virtue/Desktop/virtue_package/crawler/ebs_test.ipynb#W5sZmlsZQ%3D%3D?line=2'>3</a>\u001b[0m driver\u001b[39m.\u001b[39mimplicitly_wait(\u001b[39m3\u001b[39m)\n\u001b[1;32m----> <a href='vscode-notebook-cell:/c%3A/Users/virtue/Desktop/virtue_package/crawler/ebs_test.ipynb#W5sZmlsZQ%3D%3D?line=3'>4</a>\u001b[0m dropdown \u001b[39m=\u001b[39m Select(driver\u001b[39m.\u001b[39;49mfind_element(By\u001b[39m.\u001b[39;49mXPATH,\u001b[39m'\u001b[39;49m\u001b[39m//*[@id=\u001b[39;49m\u001b[39m\"\u001b[39;49m\u001b[39msection0\u001b[39;49m\u001b[39m\"\u001b[39;49m\u001b[39m]\u001b[39;49m\u001b[39m'\u001b[39;49m))\n",
      "File \u001b[1;32mc:\\Users\\virtue\\anaconda3\\envs\\study\\lib\\site-packages\\selenium\\webdriver\\support\\select.py:37\u001b[0m, in \u001b[0;36mSelect.__init__\u001b[1;34m(self, webelement)\u001b[0m\n\u001b[0;32m     25\u001b[0m \u001b[39m\"\"\"\u001b[39;00m\n\u001b[0;32m     26\u001b[0m \u001b[39mConstructor. A check is made that the given element is, indeed, a SELECT tag. If it is not,\u001b[39;00m\n\u001b[0;32m     27\u001b[0m \u001b[39mthen an UnexpectedTagNameException is thrown.\u001b[39;00m\n\u001b[1;32m   (...)\u001b[0m\n\u001b[0;32m     34\u001b[0m \u001b[39m    Select(driver.find_element(By.TAG_NAME, \"select\")).select_by_index(2)\u001b[39;00m\n\u001b[0;32m     35\u001b[0m \u001b[39m\"\"\"\u001b[39;00m\n\u001b[0;32m     36\u001b[0m \u001b[39mif\u001b[39;00m webelement\u001b[39m.\u001b[39mtag_name\u001b[39m.\u001b[39mlower() \u001b[39m!=\u001b[39m \u001b[39m\"\u001b[39m\u001b[39mselect\u001b[39m\u001b[39m\"\u001b[39m:\n\u001b[1;32m---> 37\u001b[0m     \u001b[39mraise\u001b[39;00m UnexpectedTagNameException(\n\u001b[0;32m     38\u001b[0m         \u001b[39m\"\u001b[39m\u001b[39mSelect only works on <select> elements, not on <\u001b[39m\u001b[39m%s\u001b[39;00m\u001b[39m>\u001b[39m\u001b[39m\"\u001b[39m \u001b[39m%\u001b[39m\n\u001b[0;32m     39\u001b[0m         webelement\u001b[39m.\u001b[39mtag_name)\n\u001b[0;32m     40\u001b[0m \u001b[39mself\u001b[39m\u001b[39m.\u001b[39m_el \u001b[39m=\u001b[39m webelement\n\u001b[0;32m     41\u001b[0m multi \u001b[39m=\u001b[39m \u001b[39mself\u001b[39m\u001b[39m.\u001b[39m_el\u001b[39m.\u001b[39mget_dom_attribute(\u001b[39m\"\u001b[39m\u001b[39mmultiple\u001b[39m\u001b[39m\"\u001b[39m)\n",
      "\u001b[1;31mUnexpectedTagNameException\u001b[0m: Message: Select only works on <select> elements, not on <div>\n"
     ]
    }
   ],
   "source": [
    "url = 'https://worldtrip.ebs.co.kr/worldtrip/main'\n",
    "driver.get(url)\n",
    "driver.implicitly_wait(3)\n",
    "dropdown = Select(driver.find_element(By.XPATH,'//*[@id=\"section0\"]'))  #정렬기준 드롭다운\n"
   ]
  },
  {
   "cell_type": "code",
   "execution_count": 20,
   "metadata": {},
   "outputs": [
    {
     "ename": "NameError",
     "evalue": "name 'dropdown' is not defined",
     "output_type": "error",
     "traceback": [
      "\u001b[1;31m---------------------------------------------------------------------------\u001b[0m",
      "\u001b[1;31mNameError\u001b[0m                                 Traceback (most recent call last)",
      "\u001b[1;32mc:\\Users\\virtue\\Desktop\\virtue_package\\crawler\\ebs_test.ipynb 셀 4\u001b[0m in \u001b[0;36m<cell line: 1>\u001b[1;34m()\u001b[0m\n\u001b[1;32m----> <a href='vscode-notebook-cell:/c%3A/Users/virtue/Desktop/virtue_package/crawler/ebs_test.ipynb#W3sZmlsZQ%3D%3D?line=0'>1</a>\u001b[0m dropdown\u001b[39m.\u001b[39mselect_by_index(\u001b[39m0\u001b[39m)\n\u001b[0;32m      <a href='vscode-notebook-cell:/c%3A/Users/virtue/Desktop/virtue_package/crawler/ebs_test.ipynb#W3sZmlsZQ%3D%3D?line=1'>2</a>\u001b[0m driver\u001b[39m.\u001b[39mimplicitly_wait(\u001b[39m3\u001b[39m)\n",
      "\u001b[1;31mNameError\u001b[0m: name 'dropdown' is not defined"
     ]
    }
   ],
   "source": [
    "dropdown.select_by_index(0)\n",
    "driver.implicitly_wait(3)"
   ]
  },
  {
   "cell_type": "code",
   "execution_count": 5,
   "metadata": {},
   "outputs": [
    {
     "ename": "IndentationError",
     "evalue": "unexpected indent (3471201973.py, line 2)",
     "output_type": "error",
     "traceback": [
      "\u001b[1;36m  Input \u001b[1;32mIn [5]\u001b[1;36m\u001b[0m\n\u001b[1;33m    driver.implicitly_wait(3)\u001b[0m\n\u001b[1;37m    ^\u001b[0m\n\u001b[1;31mIndentationError\u001b[0m\u001b[1;31m:\u001b[0m unexpected indent\n"
     ]
    }
   ],
   "source": [
    "  driver.find_element_by_xpath('//*[@id=\"catgry1\"]').send_keys('세계테마기행')\n",
    "    driver.implicitly_wait(3)"
   ]
  }
 ],
 "metadata": {
  "kernelspec": {
   "display_name": "Python 3.10.4 ('study')",
   "language": "python",
   "name": "python3"
  },
  "language_info": {
   "codemirror_mode": {
    "name": "ipython",
    "version": 3
   },
   "file_extension": ".py",
   "mimetype": "text/x-python",
   "name": "python",
   "nbconvert_exporter": "python",
   "pygments_lexer": "ipython3",
   "version": "3.10.4"
  },
  "orig_nbformat": 4,
  "vscode": {
   "interpreter": {
    "hash": "cdb3408ddd590d3368dab592099dfbb7bb79f8272c754c134a9f1c06d64a117d"
   }
  }
 },
 "nbformat": 4,
 "nbformat_minor": 2
}
