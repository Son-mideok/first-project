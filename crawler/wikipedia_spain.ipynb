{
 "cells": [
  {
   "cell_type": "code",
   "execution_count": 2,
   "id": "792ec921",
   "metadata": {},
   "outputs": [],
   "source": [
    "import requests\n",
    "from bs4 import BeautifulSoup"
   ]
  },
  {
   "cell_type": "code",
   "execution_count": 3,
   "id": "883f3077",
   "metadata": {},
   "outputs": [
    {
     "name": "stdout",
     "output_type": "stream",
     "text": [
      "200\n"
     ]
    }
   ],
   "source": [
    "URL = 'https://ko.wikipedia.org/wiki/%EC%8A%A4%ED%8E%98%EC%9D%B8'\n",
    "response = requests.get(URL)\n",
    "print(response.status_code)\n",
    "soup =BeautifulSoup(response.text, 'html.parser')"
   ]
  },
  {
   "cell_type": "code",
   "execution_count": 4,
   "id": "7922872c",
   "metadata": {},
   "outputs": [],
   "source": [
    "spain_results = soup.select_one('tbody')\\\n",
    "#print(spain_results)\n",
    "\n",
    "trs = spain_results.select('tr')\n",
    "# print(trs)"
   ]
  },
  {
   "cell_type": "code",
   "execution_count": null,
   "id": "9d7baa9c",
   "metadata": {},
   "outputs": [],
   "source": [
    "#tbody > tr > th = td (th와 td 는 같은 선상으로 확인되는데...)\n",
    "\n",
    "# for tr in trs:\n",
    "#     table_title = tr.select_one('th>.title').text # tr 검색하면서 .tilte 은 하나만 가져옴, select_one\n",
    "#     data = tr.select_one('td').text \n",
    "\n",
    "\n",
    "# title 있는경우\n",
    "\n",
    "for tr in trs:\n",
    "    table_list = tr.select_one('th>.title').text \n",
    "    data = tr.select_one('td').text\n",
    "    \n",
    "print(table_list, data)\n",
    "\n",
    "\n",
    "# title 없는 경우\n",
    "    \n",
    "# for tr in trs:\n",
    "#     table_list = tr.find('th>.title').text \n",
    "#     data = tr.find('td').text\n",
    "    \n",
    "# print(table_list, data)\n",
    "\n",
    "\n",
    "table_list = tr.select_one('th>.title')\n",
    "\n",
    "# data = tr.select_one('td ').text\n",
    "\n",
    "data = tr.select_one('td>.title')\n",
    "print(data)\n"
   ]
  },
  {
   "cell_type": "markdown",
   "id": "9bbe723d",
   "metadata": {},
   "source": [
    "## 디스코드 강사님 답변\n",
    "\n",
    "해당 테이블 분석해보시면, \n",
    "\n",
    "1. .title 속성이 한 row에서 같이 나오는 경우\n",
    "2. .title 속성이 먼저 나온 뒤, 그 다음 row부터 값이 나오는경우 두 가지가 있어서 그 두 부분 처리 해주셔야 잘 동작할겁니다\n",
    "tr로 하나씩 가져오시는건 잘했는데, \n",
    "\n",
    "tr안에서 검색할 때 .title은 하나만 가져올 것이기 때문에 select 대신 select_one 사용하셔야됩니다.\n",
    "\n",
    "우선 th 자식요소에 title이 클래스로 들어가있어서 . 붙여주셔야하고,\n",
    "tr태그 살펴보시면 title이 있는 경우, 없는경우로 나눠져있습니다."
   ]
  },
  {
   "cell_type": "markdown",
   "id": "6f74d866",
   "metadata": {},
   "source": [
    "### spain2 파일  코드오류 문의 시 답변\n",
    "\n",
    "지금 코드가 복잡해지면서 td태그로 가져오고 있으신데,\n",
    "tr 태그 기반으로 반복문 돌리시면서 데이터가 다음과 같이 나오도록 정리하는게 좋아보입니다.\n",
    "\n",
    "{\n",
    "  '표어': 'Plus Ultra',\n",
    "  '국가': '왕의 행진',\n",
    "  '정치': {\n",
    "            '정치체제': '입헌군주제, 의원내각제',\n",
    "            ...\n",
    "          }\n",
    "  ...\n",
    "\n",
    "다만, th 태그가 한 행을 다 점유한 경우, (정치, 역사, 지리)\n",
    "점유하지 않은 경우로 구분해서 정리해야 될것 같습니다."
   ]
  },
  {
   "cell_type": "markdown",
   "id": "7b967be6",
   "metadata": {},
   "source": [
    "## 셀렉터 \n",
    "선택자, HTML 문서 내 특정 요소들을 선택 \n",
    "\n",
    "`선택자의 종류`\n",
    "- 태그\n",
    "- id (id=“title”)\n",
    "- class (class=“content”) \n",
    "- 속성 a[target=“_blank”]\n",
    "\n",
    "-\n",
    "\n",
    "- 셀렉터[attribute~=“value”] : 해당 단어를 포함 \n",
    "- 셀렉터[attribute^=“value”] : 해당 값으로 시작 \n",
    "- 셀렉터[attribute$=“value”] : 해당 값으로 끝나는\n",
    "- 셀렉터[attribute*=“value”] : 해당 값을 포함하는\n",
    "\n",
    "-\n",
    "- 자식 (해당 선택자 바로 다음에 오는) \n",
    "- 후손 (해당 선택자가 포함하고 있는)\n",
    "\n",
    "\n",
    "`후손 셀렉터` div span\n",
    "`자식 셀렉터` div > span\n",
    "\n",
    "\n",
    "\n",
    "`태그 셀렉터` - p, div, h1, span \n",
    "`id 셀렉터` - #title\n",
    "`class 셀렉터` - .content \n",
    "\n"
   ]
  }
 ],
 "metadata": {
  "kernelspec": {
   "display_name": "Python 3 (ipykernel)",
   "language": "python",
   "name": "python3"
  },
  "language_info": {
   "codemirror_mode": {
    "name": "ipython",
    "version": 3
   },
   "file_extension": ".py",
   "mimetype": "text/x-python",
   "name": "python",
   "nbconvert_exporter": "python",
   "pygments_lexer": "ipython3",
   "version": "3.10.4"
  }
 },
 "nbformat": 4,
 "nbformat_minor": 5
}
