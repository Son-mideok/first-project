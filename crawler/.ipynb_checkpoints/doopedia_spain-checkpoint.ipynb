{
 "cells": [
  {
   "cell_type": "code",
   "execution_count": 1,
   "id": "d2a74f29",
   "metadata": {
    "scrolled": true
   },
   "outputs": [],
   "source": [
    "import requests\n",
    "from bs4 import BeautifulSoup\n",
    "\n",
    "URL = 'https://terms.naver.com/entry.naver?docId=1125333&cid=40942&categoryId=34081'\n",
    "response = requests.get(URL)\n",
    "soup =BeautifulSoup(response.text, 'html.parser')"
   ]
  },
  {
   "cell_type": "code",
   "execution_count": 37,
   "id": "b5ae1889",
   "metadata": {},
   "outputs": [
    {
     "name": "stdout",
     "output_type": "stream",
     "text": [
      "[{'España', '원어명'}, {'위치', '유럽 남서부, 북대서양과 지중해 연안'}, {'경위도', \"서경 4°00', 북위 40°00'\"}, {'505370', '면적(㎢)'}, {'해안선(km)', '4964'}, {'시간대', 'CET (UTC+1) Summer: CEST (UTC+2)'}, {'마드리드(Madrid)', '수도'}, {'종족구성', '지중해인 및 북유럽인'}, {'스페인어', '공용어'}, {'종교', '로마가톨릭교(94%), 기타(6%)'}, {'건국일', '15세기'}, {'펠리페 6세(Felipe Ⅵ) 국왕(2014.06 즉위)', '국가원수/국무총리'}, {'+34', '국제전화'}, {'입헌군주제', '정체'}, {'유로화(Euro)', '통화'}, {'.es', '인터넷도메인'}, {'http://www.lamoncloa.gob.es', '홈페이지'}, {'724', 'ISO 3166-1'}, {'ISO 3166-1 Alpha-3', 'ESP'}, {'47,042,984(2012년)', '인구(명)'}, {'79.92(2008년)', '평균수명(세)'}, {'28,976(2012년)', '1인당 명목 GDP($)'}, {'3,096(2011년)', '수출규모(억$)'}, {'수입규모(억$)', '3,649(2011년)'}, {'94(2012년)', '인구밀도(명/㎢)'}, {'1인당 구매력평가기준 GDP(PPP)($)', '30,412(2012년)'}]\n"
     ]
    }
   ],
   "source": [
    "spain_tbody = soup.select_one('tbody')\n",
    "trs = spain_tbody.select('tr')\n",
    "\n",
    "spain_result = []\n",
    "\n",
    "for tr in trs:\n",
    "\n",
    "    spain_title = tr.select('th > span')[0].text.strip()\n",
    "    spain_data = tr.select('td')[0].text.strip()\n",
    "    \n",
    "    spain_result.append({spain_title, spain_data})\n",
    "\n",
    "print(spain_result[:-1])"
   ]
  }
 ],
 "metadata": {
  "kernelspec": {
   "display_name": "Python 3.10.4 ('study')",
   "language": "python",
   "name": "python3"
  },
  "language_info": {
   "codemirror_mode": {
    "name": "ipython",
    "version": 3
   },
   "file_extension": ".py",
   "mimetype": "text/x-python",
   "name": "python",
   "nbconvert_exporter": "python",
   "pygments_lexer": "ipython3",
   "version": "3.10.4"
  },
  "vscode": {
   "interpreter": {
    "hash": "cdb3408ddd590d3368dab592099dfbb7bb79f8272c754c134a9f1c06d64a117d"
   }
  }
 },
 "nbformat": 4,
 "nbformat_minor": 5
}
