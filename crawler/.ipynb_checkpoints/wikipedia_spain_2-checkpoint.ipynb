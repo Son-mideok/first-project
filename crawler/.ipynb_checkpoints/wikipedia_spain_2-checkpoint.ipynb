{
 "cells": [
  {
   "cell_type": "code",
   "execution_count": 2,
   "id": "2027a9b6",
   "metadata": {},
   "outputs": [],
   "source": [
    "# 1. 원하는 영역 담기(테이블) / [td : tr] 나란히 \n",
    "\n",
    "import requests, bs4\n",
    "import pandas as pd\n",
    "\n",
    "url = \"https://ko.wikipedia.org/wiki/%EC%8A%A4%ED%8E%98%EC%9D%B8\"\n",
    "response = requests.get(url).text.encode('utf-8')\n",
    "response = bs4.BeautifulSoup(response,'html.parser')\n",
    "\n",
    "# 원하는 영역 담기\n",
    "target = response.find('table',{'class':'infobox geography vcard'})\n",
    "print(target)"
   ]
  },
  {
   "cell_type": "code",
   "execution_count": null,
   "id": "1c0bc4bf",
   "metadata": {},
   "outputs": [],
   "source": [
    "# 2.컬럼헤더 분리, 수도(3) 부터 시작\n",
    "\n",
    "thead = target.find_all('th')\n",
    "\n",
    "theadList = []\n",
    "\n",
    "theadLen = len(thead)\n",
    "\n",
    "for i in range(3,theadLen):\n",
    "    thead = target.find_all('th')[i].text\n",
    "    theadList.append(thead)\n",
    "\n",
    "theadList"
   ]
  },
  {
   "cell_type": "code",
   "execution_count": 1,
   "id": "cc3f9801",
   "metadata": {},
   "outputs": [],
   "source": [
    "# 3.1 body 데이터 담기\n",
    "\n",
    "tbody = target.find('tbody')\n",
    "tbody\n"
   ]
  },
  {
   "cell_type": "code",
   "execution_count": null,
   "id": "843a823b",
   "metadata": {},
   "outputs": [],
   "source": [
    "# tr\n",
    "\n",
    "trData = tbody.find_all('tr')\n",
    "trData"
   ]
  },
  {
   "cell_type": "code",
   "execution_count": null,
   "id": "31477689",
   "metadata": {},
   "outputs": [],
   "source": [
    "# td, 필요없는 데이터 버리고 함수 찾기? 수도(8)부터 시작\n",
    "\n",
    "tdData = trData[8].find_all('td')\n",
    "tdData"
   ]
  },
  {
   "cell_type": "code",
   "execution_count": null,
   "id": "fd9db5fa",
   "metadata": {},
   "outputs": [],
   "source": [
    "# 위에서 정한 숫자부터 시작하는거 확인, '수도' 부터 시작해서 리셋하고 0부터 시작?\n",
    "tdData[0].text"
   ]
  },
  {
   "cell_type": "code",
   "execution_count": null,
   "id": "38af5cde",
   "metadata": {},
   "outputs": [],
   "source": [
    "# 3.2 반복문으로 담기 [th, tr>td]\n",
    "\n",
    "# 구글링 \n",
    "\n",
    "rowList = []\n",
    "columnList = []\n",
    "\n",
    "trDataLen = len(trData)\n",
    "\n",
    "for i in range(0,trDataLen):\n",
    "    tdData = trData[i].find_all('td')\n",
    "\n",
    "tdDataLen = len(tdData)\n",
    "    \n",
    "    for j in range(0,tdDataLen):\n",
    "        \n",
    "        element = tdData[j].text\n",
    "        columnList.append(element)\n",
    "    \n",
    "    rowList.append(columnList)\n",
    "    columnList = []\n",
    "    \n",
    "rowList\n",
    "\n",
    "\n",
    "# # 수정중\n",
    "\n",
    "\n",
    "# theadList = []\n",
    "# columnList = []\n",
    "\n",
    "\n",
    "# trDataLen = len(trData)\n",
    "# tdDataLen = len(tdData)\n",
    "\n",
    "# for i in range(3,theadLen):\n",
    "#     thead = target.find_all('th')[i].text\n",
    "#     theadLen = len(thead)\n",
    "\n",
    "\n",
    "#     for j in range(0,tdDataLen):\n",
    "        \n",
    "#         element = tdData[j].text\n",
    "#         columnList.append(element)\n",
    "    \n",
    "#     theadList.append(columnList)\n",
    "#     columnList = []\n",
    "\n",
    "# theadList"
   ]
  },
  {
   "cell_type": "code",
   "execution_count": null,
   "id": "7254e2fc",
   "metadata": {},
   "outputs": [],
   "source": [
    "# 4. Pandas로 DataFrame 만들기 / 오류\n",
    "\n",
    "result = pd.DataFrame(rowList, columns=theadList)\n",
    "result"
   ]
  }
 ],
 "metadata": {
  "kernelspec": {
   "display_name": "Python 3 (ipykernel)",
   "language": "python",
   "name": "python3"
  },
  "language_info": {
   "codemirror_mode": {
    "name": "ipython",
    "version": 3
   },
   "file_extension": ".py",
   "mimetype": "text/x-python",
   "name": "python",
   "nbconvert_exporter": "python",
   "pygments_lexer": "ipython3",
   "version": "3.10.4"
  }
 },
 "nbformat": 4,
 "nbformat_minor": 5
}
