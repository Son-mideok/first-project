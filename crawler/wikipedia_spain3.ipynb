{
 "cells": [
  {
   "cell_type": "code",
   "execution_count": 1,
   "id": "c7d0e64f",
   "metadata": {},
   "outputs": [],
   "source": [
    "from cgitb import text\n",
    "from inspect import Attribute\n",
    "import requests\n",
    "from bs4 import BeautifulSoup\n",
    "\n",
    "url = \"https://ko.wikipedia.org/wiki/%EC%8A%A4%ED%8E%98%EC%9D%B8\"\n",
    "res = requests.get(url)\n",
    "res.raise_for_status() #문제있으면 프로그램 종료\n",
    "\n",
    "soup = BeautifulSoup(res.text, \"lxml\")"
   ]
  },
  {
   "cell_type": "code",
   "execution_count": null,
   "id": "d6754f1c",
   "metadata": {},
   "outputs": [],
   "source": [
    "print(soup.a.attrs) "
   ]
  },
  {
   "cell_type": "code",
   "execution_count": 28,
   "id": "d4c9eb0e",
   "metadata": {},
   "outputs": [],
   "source": [
    "# tr > th, td -> class가 없음, class 없는 속성 불러오기\n",
    "\n",
    "results = soup.find_all(\"tr>td\")\n"
   ]
  },
  {
   "cell_type": "code",
   "execution_count": 29,
   "id": "6cf14a11",
   "metadata": {},
   "outputs": [
    {
     "name": "stdout",
     "output_type": "stream",
     "text": [
      "[]\n"
     ]
    }
   ],
   "source": [
    "print(results) # 왜 비었지?"
   ]
  },
  {
   "cell_type": "code",
   "execution_count": 26,
   "id": "d57d5a46",
   "metadata": {},
   "outputs": [
    {
     "ename": "AttributeError",
     "evalue": "'NoneType' object has no attribute 'get_text'",
     "output_type": "error",
     "traceback": [
      "\u001b[1;31m---------------------------------------------------------------------------\u001b[0m",
      "\u001b[1;31mAttributeError\u001b[0m                            Traceback (most recent call last)",
      "Input \u001b[1;32mIn [26]\u001b[0m, in \u001b[0;36m<cell line: 2>\u001b[1;34m()\u001b[0m\n\u001b[0;32m      1\u001b[0m \u001b[38;5;66;03m# td 밑에 a 태그 있는것, a 태그 밑에 있는 text 가져오기 위해서 .a.get.text\u001b[39;00m\n\u001b[1;32m----> 2\u001b[0m title \u001b[38;5;241m=\u001b[39m \u001b[43mresults\u001b[49m\u001b[43m[\u001b[49m\u001b[38;5;241;43m0\u001b[39;49m\u001b[43m]\u001b[49m\u001b[38;5;241;43m.\u001b[39;49m\u001b[43ma\u001b[49m\u001b[38;5;241;43m.\u001b[39;49m\u001b[43mget_text\u001b[49m() \u001b[38;5;66;03m# 샘플로 첫번째 잘가져오는지 확인 [0]은 리스트니깐 0번째에 해당하는 값\u001b[39;00m\n\u001b[0;32m      4\u001b[0m \u001b[38;5;28mprint\u001b[39m(title)\n",
      "\u001b[1;31mAttributeError\u001b[0m: 'NoneType' object has no attribute 'get_text'"
     ]
    }
   ],
   "source": [
    "# td 밑에 a 태그 있는것, a 태그 밑에 있는 text 가져오기 위해서 .a.get.text\n",
    "title = results[0].a.get_text() # 샘플로 첫번째 잘가져오는지 확인 [0]은 리스트니깐 0번째에 해당하는 값\n",
    "\n",
    "print(title)"
   ]
  },
  {
   "cell_type": "code",
   "execution_count": null,
   "id": "b934524b",
   "metadata": {},
   "outputs": [],
   "source": [
    "for result in results:\n",
    "    \n",
    "    title = result.a.get_text()\n",
    "    \n",
    "    print(title)"
   ]
  }
 ],
 "metadata": {
  "kernelspec": {
   "display_name": "Python 3 (ipykernel)",
   "language": "python",
   "name": "python3"
  },
  "language_info": {
   "codemirror_mode": {
    "name": "ipython",
    "version": 3
   },
   "file_extension": ".py",
   "mimetype": "text/x-python",
   "name": "python",
   "nbconvert_exporter": "python",
   "pygments_lexer": "ipython3",
   "version": "3.10.4"
  }
 },
 "nbformat": 4,
 "nbformat_minor": 5
}
