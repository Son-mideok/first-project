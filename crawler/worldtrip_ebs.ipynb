{
 "cells": [
  {
   "cell_type": "markdown",
   "metadata": {},
   "source": [
    "## 3. EBS 세계테마기행 크롤링(셀레니움)"
   ]
  },
  {
   "cell_type": "code",
   "execution_count": 3,
   "metadata": {},
   "outputs": [
    {
     "data": {
      "text/plain": [
       "[{'동영상 제목': '열정이 그리워서, 스페인-전설을 거닐다',\n",
       "  '링크': 'https://worldtrip.ebs.co.kr/worldtrip/replayView?siteCd=KH&courseId=BP0PAPD0000000013&stepId=01BP0PAPD0000000013&lectId=60244500'},\n",
       " {'동영상 제목': '열정이 그리워서, 스페인-길 위의 철학자들',\n",
       "  '링크': 'https://worldtrip.ebs.co.kr/worldtrip/replayView?siteCd=KH&courseId=BP0PAPD0000000013&stepId=01BP0PAPD0000000013&lectId=60243823'},\n",
       " {'동영상 제목': '열정이 그리워서, 스페인-1일 5식, 스페인은 맛있다!',\n",
       "  '링크': 'https://worldtrip.ebs.co.kr/worldtrip/replayView?siteCd=KH&courseId=BP0PAPD0000000013&stepId=01BP0PAPD0000000013&lectId=60243430'},\n",
       " {'동영상 제목': '열정이 그리워서, 스페인-돈키호테를 닮은 사람들',\n",
       "  '링크': 'https://worldtrip.ebs.co.kr/worldtrip/replayView?siteCd=KH&courseId=BP0PAPD0000000013&stepId=01BP0PAPD0000000013&lectId=60243156'},\n",
       " {'동영상 제목': '맛슐랭 갈랭?-우리가 사랑하는 맛, 스페인',\n",
       "  '링크': 'https://worldtrip.ebs.co.kr/worldtrip/replayView?siteCd=KH&courseId=BP0PAPD0000000013&stepId=01BP0PAPD0000000013&lectId=60216123'},\n",
       " {'동영상 제목': '걷고 먹고 행복하라!-산티아고 순례길',\n",
       "  '링크': 'https://worldtrip.ebs.co.kr/worldtrip/replayView?siteCd=KH&courseId=BP0PAPD0000000013&stepId=01BP0PAPD0000000013&lectId=60212335'},\n",
       " {'동영상 제목': '푸드 트립 스페인-먹고 걷고 행복하라! 미식 순례',\n",
       "  '링크': 'https://worldtrip.ebs.co.kr/worldtrip/replayView?siteCd=KH&courseId=BP0PAPD0000000013&stepId=01BP0PAPD0000000013&lectId=20172405'},\n",
       " {'동영상 제목': '푸드 트립 스페인-어울려야 제 맛!',\n",
       "  '링크': 'https://worldtrip.ebs.co.kr/worldtrip/replayView?siteCd=KH&courseId=BP0PAPD0000000013&stepId=01BP0PAPD0000000013&lectId=20171988'},\n",
       " {'동영상 제목': '푸드 트립 스페인-올라! 맛있는 인생',\n",
       "  '링크': 'https://worldtrip.ebs.co.kr/worldtrip/replayView?siteCd=KH&courseId=BP0PAPD0000000013&stepId=01BP0PAPD0000000013&lectId=20171249'}]"
      ]
     },
     "execution_count": 3,
     "metadata": {},
     "output_type": "execute_result"
    }
   ],
   "source": [
    "# 셀레니움 Select 모듈추가 후 Select() 함수사용\n",
    "\n",
    "from selenium import webdriver\n",
    "from selenium.webdriver.support.ui import Select\n",
    "from selenium.webdriver.common.by import By\n",
    "\n",
    "from selenium import webdriver\n",
    "from selenium.webdriver.chrome.service import Service\n",
    "from webdriver_manager.chrome import ChromeDriverManager\n",
    "driver = webdriver.Chrome(service=Service(ChromeDriverManager().install()))\n",
    "\n",
    "from re import search\n",
    "\n",
    "# 파이썬 셀레니움 드롭다운 박스 선택\n",
    "# 셀레니움 드롭다운 select tag xpath로 크롤링 \n",
    "\n",
    "\n",
    "url = 'https://worldtrip.ebs.co.kr/worldtrip/main'\n",
    "driver.get(url)\n",
    "\n",
    "\n",
    "#ID로 접근하여 select()함수로 선택\n",
    "driver.implicitly_wait(3)\n",
    "dropdown = Select(driver.find_element(By.ID,'catgry1'))  \n",
    "dropdown.select_by_visible_text('세계테마기행')\n",
    "\n",
    "driver.implicitly_wait(3)\n",
    "dropdown2 = Select(driver.find_element(By.ID,'catgry2'))\n",
    "dropdown2.select_by_visible_text('유럽')\n",
    "\n",
    "driver.implicitly_wait(3)\n",
    "dropdown3 = Select(driver.find_element(By.ID,'catgry3'))\n",
    "dropdown3.select_by_visible_text('스페인')\n",
    "\n",
    "\n",
    "driver.implicitly_wait(3)\n",
    "# search = driver.find_element(By.CLASS_NAME, 'submit')\n",
    "# driver.click()\n",
    "try:\n",
    "    driver.find_element(By.CSS_SELECTOR, 'a[onclick^=\"catgrySearch( this )\"]').click() \n",
    "except:\n",
    "    driver.find_element(By.CSS_SELECTOR, 'a[onclick^=\"catgrySearch(this)\"]').click()\n",
    "\n",
    "element = driver.find_element(By.XPATH, '//*[@id=\"vodList\"]/li[1]/a/span/span/span[1]')\n",
    "\n",
    "elements = driver.find_elements(By.CSS_SELECTOR, '#vodList > li > a')\n",
    "\n",
    "elements=elements[:10]\n",
    "\n",
    "vod_list = []\n",
    "\n",
    "for element in elements:\n",
    "    title = element.text\n",
    "    link = element.get_attribute('href')\n",
    "\n",
    "#print(title,link)\n",
    "\n",
    "    temp = {}\n",
    "    temp['동영상 제목'] = title\n",
    "    temp['링크'] = link\n",
    "\n",
    "    vod_list.append(temp)\n",
    "\n",
    "vod_list"
   ]
  }
 ],
 "metadata": {
  "kernelspec": {
   "display_name": "Python 3.10.4 ('study')",
   "language": "python",
   "name": "python3"
  },
  "language_info": {
   "codemirror_mode": {
    "name": "ipython",
    "version": 3
   },
   "file_extension": ".py",
   "mimetype": "text/x-python",
   "name": "python",
   "nbconvert_exporter": "python",
   "pygments_lexer": "ipython3",
   "version": "3.10.4"
  },
  "orig_nbformat": 4,
  "vscode": {
   "interpreter": {
    "hash": "cdb3408ddd590d3368dab592099dfbb7bb79f8272c754c134a9f1c06d64a117d"
   }
  }
 },
 "nbformat": 4,
 "nbformat_minor": 2
}
